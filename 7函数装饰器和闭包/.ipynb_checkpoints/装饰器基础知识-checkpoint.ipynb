{
 "cells": [
  {
   "cell_type": "code",
   "execution_count": 1,
   "metadata": {
    "collapsed": false
   },
   "outputs": [
    {
     "name": "stdout",
     "output_type": "stream",
     "text": [
      "do something\n",
      "running target()\n"
     ]
    }
   ],
   "source": [
    "\"\"\"\n",
    "装饰器是可调用的对象，其参数是另一个函数(被装饰的函数)\n",
    "装饰器可能会处理被装饰的函数，然后把它返回，或者将其替换成另一个函数或可调用对象。\n",
    "\"\"\"\n",
    "def decorate(func):\n",
    "    print(\"do something\")\n",
    "    return func\n",
    "\n",
    "@decorate\n",
    "def target():\n",
    "    print('running target()')\n",
    "    \n",
    "target()"
   ]
  },
  {
   "cell_type": "code",
   "execution_count": 2,
   "metadata": {
    "collapsed": false
   },
   "outputs": [
    {
     "name": "stdout",
     "output_type": "stream",
     "text": [
      "do something\n",
      "running target()\n"
     ]
    }
   ],
   "source": [
    "# 上面的代码和下面的类似\n",
    "def target():\n",
    "    print('running target()')\n",
    "target = decorate(target)\n",
    "target()"
   ]
  },
  {
   "cell_type": "code",
   "execution_count": 3,
   "metadata": {
    "collapsed": false
   },
   "outputs": [
    {
     "name": "stdout",
     "output_type": "stream",
     "text": [
      "running inner()\n",
      "None\n",
      "<function deco.<locals>.inner at 0x106bb9268>\n"
     ]
    }
   ],
   "source": [
    "\"\"\"\n",
    "上面的函数中，target已经不是我们定义的函数了，而是decorate(target)返回的函数。下面的例子更加清楚的解释了这一点\n",
    "\"\"\"\n",
    "def deco(func):\n",
    "    def inner():\n",
    "        print('running inner()')\n",
    "    return inner\n",
    "\n",
    "@deco\n",
    "def target():\n",
    "    print('running target()')\n",
    "    \n",
    "print(target())\n",
    "\"\"\"可以发现，target是inner函数的引用\"\"\"\n",
    "print(target)\n"
   ]
  },
  {
   "cell_type": "code",
   "execution_count": null,
   "metadata": {
    "collapsed": true
   },
   "outputs": [],
   "source": [
    "\"\"\"\n",
    "所以，装饰器的一大特性是，能把被装饰的函数替换成其他函数。而另一个特性是，装饰器加载模块时立即被执行。\n",
    "\"\"\""
   ]
  }
 ],
 "metadata": {
  "anaconda-cloud": {},
  "kernelspec": {
   "display_name": "Python [conda root]",
   "language": "python",
   "name": "conda-root-py"
  },
  "language_info": {
   "codemirror_mode": {
    "name": "ipython",
    "version": 3
   },
   "file_extension": ".py",
   "mimetype": "text/x-python",
   "name": "python",
   "nbconvert_exporter": "python",
   "pygments_lexer": "ipython3",
   "version": "3.5.2"
  }
 },
 "nbformat": 4,
 "nbformat_minor": 1
}
