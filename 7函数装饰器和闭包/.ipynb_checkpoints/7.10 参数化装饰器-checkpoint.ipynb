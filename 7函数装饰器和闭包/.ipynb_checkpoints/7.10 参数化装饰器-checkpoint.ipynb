{
 "cells": [
  {
   "cell_type": "code",
   "execution_count": 2,
   "metadata": {
    "collapsed": false
   },
   "outputs": [
    {
     "name": "stdout",
     "output_type": "stream",
     "text": [
      "running register(active = False) -> decorate(<function f1 at 0x106ba9d90>)\n",
      "running register(active = True) -> decorate(<function f2 at 0x106ba9bf8>)\n",
      "running f1()\n",
      "running f2()\n"
     ]
    }
   ],
   "source": [
    "\"\"\"\n",
    "想要给装饰器中传入一个参数，我们需要在真正的装饰器外面在嵌套一个函数，并且该函数必须返回真正的装饰器。\n",
    "\n",
    "假如我们实现一个下面的函数注册功能，当active=True时，函数被添加进去。\n",
    "\"\"\"\n",
    "registry = set()\n",
    "def register(active = True):\n",
    "    def decorate(func):\n",
    "        print('running register(active = %s) -> decorate(%s)' % (active,func))\n",
    "    \n",
    "        if active:\n",
    "            registry.add(func)\n",
    "        else:\n",
    "            registry.discard(func)\n",
    "        \n",
    "        return func\n",
    "    return decorate\n",
    "\n",
    "@register(active=False)\n",
    "def f1():\n",
    "    print('running f1()')\n",
    "    \n",
    "@register()\n",
    "def f2():\n",
    "    print('running f2()')\n",
    "    \n",
    "f1()\n",
    "f2()"
   ]
  },
  {
   "cell_type": "code",
   "execution_count": 3,
   "metadata": {
    "collapsed": false
   },
   "outputs": [
    {
     "data": {
      "text/plain": [
       "'\\n上面的运行过程相当于：\\n1、register(active=False)返回decorate\\n2、f1 = decorate(f1) , 此时decorate相当于是一个嵌套函数，active为其中的自由变量，绑定了False，因此执行registry.discard(func)\\n3、执行f1()，打印running f1()\\n'"
      ]
     },
     "execution_count": 3,
     "metadata": {},
     "output_type": "execute_result"
    }
   ],
   "source": [
    "\"\"\"\n",
    "上面的运行过程相当于：\n",
    "1、register(active=False)返回decorate\n",
    "2、f1 = decorate(f1) , 此时decorate相当于是一个嵌套函数，active为其中的自由变量，绑定了False，因此执行registry.discard(func)\n",
    "3、执行f1()，打印running f1()\n",
    "\"\"\""
   ]
  },
  {
   "cell_type": "code",
   "execution_count": null,
   "metadata": {
    "collapsed": true
   },
   "outputs": [],
   "source": []
  }
 ],
 "metadata": {
  "kernelspec": {
   "display_name": "Python [conda root]",
   "language": "python",
   "name": "conda-root-py"
  },
  "language_info": {
   "codemirror_mode": {
    "name": "ipython",
    "version": 3
   },
   "file_extension": ".py",
   "mimetype": "text/x-python",
   "name": "python",
   "nbconvert_exporter": "python",
   "pygments_lexer": "ipython3",
   "version": "3.5.2"
  }
 },
 "nbformat": 4,
 "nbformat_minor": 1
}
