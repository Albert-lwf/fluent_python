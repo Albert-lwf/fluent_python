{
 "cells": [
  {
   "cell_type": "code",
   "execution_count": 2,
   "metadata": {
    "collapsed": false
   },
   "outputs": [
    {
     "name": "stdout",
     "output_type": "stream",
     "text": [
      "**************************************** Calling snooze(.123)\n",
      "[0.12701644s] snooze(0.123) -> None\n",
      "**************************************** Calling factorial(6)\n",
      "[0.00000079s] factorical(1) -> 1\n",
      "[0.00003222s] factorical(2) -> 2\n",
      "[0.00004584s] factorical(3) -> 6\n",
      "[0.00005684s] factorical(4) -> 24\n",
      "[0.00006901s] factorical(5) -> 120\n",
      "[0.00008109s] factorical(6) -> 720\n",
      "6!= 720\n"
     ]
    }
   ],
   "source": [
    "\"\"\"\n",
    "我们来实现一个简单的装饰器，每次调用时会给被装饰的函数计时，并把经过的时间、传入的参数和调用的结果进行打印\n",
    "\"\"\"\n",
    "\n",
    "import time\n",
    "def clock(func):\n",
    "    def clocked(*args):\n",
    "        t0 = time.perf_counter()\n",
    "        result = func(*args)\n",
    "        elapsed = time.perf_counter() - t0\n",
    "        name = func.__name__\n",
    "        arg_str = ','.join(repr(arg) for arg in args)\n",
    "        print('[%0.8fs] %s(%s) -> %r' % (elapsed,name,arg_str,result))\n",
    "        return result\n",
    "    return clocked\n",
    "\n",
    "@clock\n",
    "def snooze(seconds):\n",
    "    time.sleep(seconds)\n",
    "\n",
    "@clock\n",
    "def factorical(n):\n",
    "    return 1 if n<2 else n * factorical(n-1)\n",
    "\n",
    "\n",
    "print('*' * 40, 'Calling snooze(.123)')\n",
    "snooze(.123)\n",
    "print('*' * 40 , 'Calling factorial(6)')\n",
    "print('6!=',factorical(6))"
   ]
  },
  {
   "cell_type": "code",
   "execution_count": 5,
   "metadata": {
    "collapsed": false
   },
   "outputs": [
    {
     "name": "stdout",
     "output_type": "stream",
     "text": [
      "clocked\n",
      "('func',)\n",
      "<function factorical at 0x106cc2a60>\n"
     ]
    }
   ],
   "source": [
    "\"\"\"\n",
    "在上面的例子中，我们以factorical为例，执行过程如下：\n",
    "1、factorical = clock(factorical),此时的factorical是内部函数clocked\n",
    "2、执行factorical(6),相当于执行clocked(6),而clocked里的func是一个自由变量，它相当于原始的factorical。\n",
    "\n",
    "因此，我们可以看一下此时的factorical的函数名，以及clocked的自由变量.\n",
    "\"\"\"\n",
    "print(factorical.__name__)\n",
    "print(factorical.__code__.co_freevars)\n",
    "print(factorical.__closure__[0].cell_contents)"
   ]
  },
  {
   "cell_type": "code",
   "execution_count": 7,
   "metadata": {
    "collapsed": false
   },
   "outputs": [
    {
     "name": "stdout",
     "output_type": "stream",
     "text": [
      "snooze\n",
      "factorical\n"
     ]
    }
   ],
   "source": [
    "\"\"\"\n",
    "既然，我们原始的factorical在经过装饰器装饰之后，已经变为clocked，那么能不能把原始的factorial的属性赋值给clocked呢？\n",
    "答案是肯定的，我们要使用functools.wraps装饰器\n",
    "\"\"\"\n",
    "import time\n",
    "import functools\n",
    "\n",
    "def clock(func):\n",
    "    @functools.wraps(func)\n",
    "    def clocked(*args):\n",
    "        t0 = time.perf_counter()\n",
    "        result = func(*args)\n",
    "        elapsed = time.perf_counter() - t0\n",
    "        name = func.__name__\n",
    "        arg_str = ','.join(repr(arg) for arg in args)\n",
    "        print('[%0.8fs] %s(%s) -> %r' % (elapsed,name,arg_str,result))\n",
    "        return result\n",
    "    return clocked\n",
    "\n",
    "@clock\n",
    "def snooze(seconds):\n",
    "    time.sleep(seconds)\n",
    "\n",
    "@clock\n",
    "def factorical(n):\n",
    "    return 1 if n<2 else n * factorical(n-1)\n",
    "\n",
    "print(snooze.__name__)\n",
    "print(factorical.__name__)"
   ]
  },
  {
   "cell_type": "code",
   "execution_count": null,
   "metadata": {
    "collapsed": true
   },
   "outputs": [],
   "source": []
  }
 ],
 "metadata": {
  "kernelspec": {
   "display_name": "Python [conda root]",
   "language": "python",
   "name": "conda-root-py"
  },
  "language_info": {
   "codemirror_mode": {
    "name": "ipython",
    "version": 3
   },
   "file_extension": ".py",
   "mimetype": "text/x-python",
   "name": "python",
   "nbconvert_exporter": "python",
   "pygments_lexer": "ipython3",
   "version": "3.5.2"
  }
 },
 "nbformat": 4,
 "nbformat_minor": 1
}
