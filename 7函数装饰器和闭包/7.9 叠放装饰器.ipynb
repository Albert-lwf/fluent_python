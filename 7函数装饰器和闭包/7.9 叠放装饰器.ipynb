{
 "cells": [
  {
   "cell_type": "code",
   "execution_count": null,
   "metadata": {
    "collapsed": true
   },
   "outputs": [],
   "source": [
    "\"\"\"\n",
    "这里我们介绍下叠放装饰器的原理，这里的运行顺序是由下向上的，比如\n",
    "\"\"\"\n",
    "@d1\n",
    "@d2\n",
    "def f():\n",
    "    print('f')\n",
    "    \n",
    "# 相当于\n",
    "f = d1(df(f))"
   ]
  }
 ],
 "metadata": {
  "anaconda-cloud": {},
  "kernelspec": {
   "display_name": "Python [conda root]",
   "language": "python",
   "name": "conda-root-py"
  },
  "language_info": {
   "codemirror_mode": {
    "name": "ipython",
    "version": 3
   },
   "file_extension": ".py",
   "mimetype": "text/x-python",
   "name": "python",
   "nbconvert_exporter": "python",
   "pygments_lexer": "ipython3",
   "version": "3.5.2"
  }
 },
 "nbformat": 4,
 "nbformat_minor": 1
}
