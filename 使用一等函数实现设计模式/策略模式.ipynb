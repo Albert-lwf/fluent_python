{
 "cells": [
  {
   "cell_type": "code",
   "execution_count": 1,
   "metadata": {
    "collapsed": false
   },
   "outputs": [
    {
     "data": {
      "text/plain": [
       "'\\n《设计模式：可复用面向对象软件的基础》中提出了23种设计模式，但对于Python来说，函数是一等对象，\\n我们需要重新审视“策略”，“命令”，“模版方法“，和“访问者”模式\\n'"
      ]
     },
     "execution_count": 1,
     "metadata": {},
     "output_type": "execute_result"
    }
   ],
   "source": [
    "\"\"\"\n",
    "《设计模式：可复用面向对象软件的基础》中提出了23种设计模式，但对于Python来说，函数是一等对象，\n",
    "我们需要重新审视“策略”，“命令”，“模版方法“，和“访问者”模式\n",
    "\"\"\""
   ]
  },
  {
   "cell_type": "code",
   "execution_count": 2,
   "metadata": {
    "collapsed": false
   },
   "outputs": [
    {
     "data": {
      "text/plain": [
       "'\\n策略模式是处理算法不同变体的一种成熟模式，策略模式通过接口或抽象类封装算法的标识，\\n即在接口中定义一个抽象方法，实现该接口的类将实现接口中的抽象方法。策略模式把针对\\n一个算法标识的一系列具体算法分别封装在不同的类中，使得各个类给出的具体算法可以相互替换。\\n\\n在策略模式中，封装算法标识的接口称作策略，实现该接口的类称作具体策略。\\n'"
      ]
     },
     "execution_count": 2,
     "metadata": {},
     "output_type": "execute_result"
    }
   ],
   "source": [
    "\"\"\"\n",
    "策略模式是处理算法不同变体的一种成熟模式，策略模式通过接口或抽象类封装算法的标识，\n",
    "即在接口中定义一个抽象方法，实现该接口的类将实现接口中的抽象方法。策略模式把针对\n",
    "一个算法标识的一系列具体算法分别封装在不同的类中，使得各个类给出的具体算法可以相互替换。\n",
    "\n",
    "在策略模式中，封装算法标识的接口称作策略，实现该接口的类称作具体策略。\n",
    "\"\"\""
   ]
  },
  {
   "cell_type": "code",
   "execution_count": 4,
   "metadata": {
    "collapsed": false
   },
   "outputs": [],
   "source": [
    "\"\"\"\n",
    "我们通过下面的例子来看一下具体的策略模式的实现。\n",
    "假如一个网店制定了下述具体折扣规则：\n",
    "1、有1000及以上积分的顾客，每个订单享5%折扣\n",
    "2、同一订单中，单个商品数量达到20个以上，享10%折扣\n",
    "3、订单中的不同商品达到10个以上，享7%折扣\n",
    "\n",
    "一个策略模式需要三个要素：上下文、策略、具体策略。\n",
    "本例中的上下文即Order，用户的订单，策略是对用户订单的折扣策略，具体策略即我们上面提出的三种方案\n",
    "\"\"\"\n",
    "from abc import ABC,abstractmethod\n",
    "from collections import namedtuple\n",
    "Customer = namedtuple('Customer','name fidelity')\n",
    "class LineItem:\n",
    "    def __init__(self,product,quantity,price):\n",
    "        self.product = product\n",
    "        self.quantity = quantity\n",
    "        self.price = price\n",
    "    \n",
    "    def total(self):\n",
    "        return self.price * self.quantity\n",
    "\n",
    "class Order(): # 上下文\n",
    "    def __init__(self,customer,cart,promotion = None):\n",
    "        self.customer = customer\n",
    "        self.cart = list(cart)\n",
    "        self.promotion = promotion\n",
    "    \n",
    "    def total(self):\n",
    "        if not hasattr(self,'__total'):\n",
    "            self.__total = sum(item.total() for item in self.cart)\n",
    "        return self.__total\n",
    "    \n",
    "    def due(self):\n",
    "        if self.promotion is None:\n",
    "            discount = 0\n",
    "        else:\n",
    "            discount = self.promotion.discount(self)\n",
    "        return self.total() - discount\n",
    "    \n",
    "    def __repr__(self):\n",
    "        fmt = '<Order total:{:.2f} due : {:.2f}>'\n",
    "        return fmt.format(self.total(),self.due())\n",
    "    \n",
    "class Promotion(ABC):\n",
    "    \n",
    "    @abstractmethod\n",
    "    def discount(self,order):\n",
    "        pass\n",
    "    \n",
    "class FidelityPromo(Promotion):\n",
    "    def discount(self,order):\n",
    "        return order.total() * 0.05 if order.customer.fidelity >= 1000 else 0\n",
    "    \n",
    "class BulkItemPromo(Promotion):\n",
    "    def discount(self,order):\n",
    "        discount = 0\n",
    "        for item in order.cart:\n",
    "            if item.quantity >= 20:\n",
    "                discount += item.total() * 0.1\n",
    "        return discount\n",
    "    \n",
    "class LargeOrderPromo(Promotion):\n",
    "    def discount(self,order):\n",
    "        distinct_items = {item.product for item in order.cart}\n",
    "        if len(distinct_items) >= 10:\n",
    "            return order.total() * 0.07\n",
    "        return 0"
   ]
  },
  {
   "cell_type": "code",
   "execution_count": 6,
   "metadata": {
    "collapsed": false
   },
   "outputs": [
    {
     "name": "stdout",
     "output_type": "stream",
     "text": [
      "<Order total:42.00 due : 42.00>\n",
      "<Order total:42.00 due : 39.90>\n",
      "<Order total:30.00 due : 28.50>\n",
      "<Order total:10.00 due : 9.30>\n"
     ]
    }
   ],
   "source": [
    "joe = Customer('John Doe',0)\n",
    "ann = Customer('Ann Smith',1100)\n",
    "\n",
    "cart = [LineItem('banana',4,.5),\n",
    "        LineItem('apple',10,1.5),\n",
    "        LineItem('watermellon',5,5.0)]\n",
    "\n",
    "print(Order(joe,cart,FidelityPromo()))\n",
    "print(Order(ann,cart,FidelityPromo()))\n",
    "banana_cart = [LineItem('banana',30,.5),\n",
    "              LineItem('apple',10,1.5)]\n",
    "print(Order(joe,banana_cart,BulkItemPromo()))\n",
    "\n",
    "long_order = [LineItem(str(item_code),1,1.0) for item_code in range(10)]\n",
    "print(Order(joe,long_order,LargeOrderPromo()))"
   ]
  },
  {
   "cell_type": "code",
   "execution_count": 11,
   "metadata": {
    "collapsed": true
   },
   "outputs": [],
   "source": [
    "\"\"\"\n",
    "在python中，我们完全可以使用函数来实现策略模式。\n",
    "\"\"\"\n",
    "Customer = namedtuple('Customer','name fidelity')\n",
    "class LineItem:\n",
    "    def __init__(self,product,quantity,price):\n",
    "        self.product = product\n",
    "        self.quantity = quantity\n",
    "        self.price = price\n",
    "    \n",
    "    def total(self):\n",
    "        return self.price * self.quantity\n",
    "\n",
    "class Order(): # 上下文\n",
    "    def __init__(self,customer,cart,promotion = None):\n",
    "        self.customer = customer\n",
    "        self.cart = list(cart)\n",
    "        self.promotion = promotion\n",
    "    \n",
    "    def total(self):\n",
    "        if not hasattr(self,'__total'):\n",
    "            self.__total = sum(item.total() for item in self.cart)\n",
    "        return self.__total\n",
    "    \n",
    "    def due(self):\n",
    "        if self.promotion is None:\n",
    "            discount = 0\n",
    "        else:\n",
    "            discount = self.promotion(self)\n",
    "        return self.total() - discount\n",
    "    \n",
    "    def __repr__(self):\n",
    "        fmt = '<Order total:{:.2f} due : {:.2f}>'\n",
    "        return fmt.format(self.total(),self.due())\n",
    "    \n",
    "def fidelity_promo(order):\n",
    "    return order.total() * 0.05 if order.customer.fidelity >= 1000 else 0\n",
    "    \n",
    "def bulk_item_promo(order):\n",
    "    discount = 0\n",
    "    for item in order.cart:\n",
    "        if item.quantity >= 20:\n",
    "            discount += item.total() * 0.1\n",
    "    return discount\n",
    "    \n",
    "def large_order_promo(order):\n",
    "    distinct_items = {item.product for item in order.cart}\n",
    "    if len(distinct_items) >= 10:\n",
    "        return order.total() * 0.07\n",
    "    return 0"
   ]
  },
  {
   "cell_type": "code",
   "execution_count": 12,
   "metadata": {
    "collapsed": false
   },
   "outputs": [
    {
     "name": "stdout",
     "output_type": "stream",
     "text": [
      "<Order total:42.00 due : 42.00>\n",
      "<Order total:42.00 due : 39.90>\n",
      "<Order total:30.00 due : 28.50>\n",
      "<Order total:10.00 due : 9.30>\n"
     ]
    }
   ],
   "source": [
    "joe = Customer('John Doe',0)\n",
    "ann = Customer('Ann Smith',1100)\n",
    "\n",
    "cart = [LineItem('banana',4,.5),\n",
    "        LineItem('apple',10,1.5),\n",
    "        LineItem('watermellon',5,5.0)]\n",
    "\n",
    "print(Order(joe,cart,fidelity_promo))\n",
    "print(Order(ann,cart,fidelity_promo))\n",
    "banana_cart = [LineItem('banana',30,.5),\n",
    "              LineItem('apple',10,1.5)]\n",
    "print(Order(joe,banana_cart,bulk_item_promo))\n",
    "\n",
    "long_order = [LineItem(str(item_code),1,1.0) for item_code in range(10)]\n",
    "print(Order(joe,long_order,large_order_promo))"
   ]
  },
  {
   "cell_type": "code",
   "execution_count": 13,
   "metadata": {
    "collapsed": false
   },
   "outputs": [
    {
     "name": "stdout",
     "output_type": "stream",
     "text": [
      "<Order total:10.00 due : 9.30>\n"
     ]
    }
   ],
   "source": [
    "\"\"\"\n",
    "如果我们想要通过一种简单的方式，来得到最佳的策略，我们可能会进行下面的设计\n",
    "\"\"\"\n",
    "promos = [fidelity_promo,bulk_item_promo,large_order_promo]\n",
    "\n",
    "def best_promo(order):\n",
    "    return max(promo(order) for promo in promos)\n",
    "\n",
    "print(Order(joe,long_order,best_promo))"
   ]
  },
  {
   "cell_type": "code",
   "execution_count": 14,
   "metadata": {
    "collapsed": false
   },
   "outputs": [
    {
     "data": {
      "text/plain": [
       "'\\n当我们想要添加新的策略时，不得不往promos里添加新的函数名，这样会比较麻烦，那么有没有办法不用修改promos呢？这里有两种解决方案\\n'"
      ]
     },
     "execution_count": 14,
     "metadata": {},
     "output_type": "execute_result"
    }
   ],
   "source": [
    "\"\"\"\n",
    "当我们想要添加新的策略时，不得不往promos里添加新的函数名，这样会比较麻烦，那么有没有办法不用修改promos呢？这里有两种解决方案\n",
    "\"\"\"\n"
   ]
  },
  {
   "cell_type": "code",
   "execution_count": 16,
   "metadata": {
    "collapsed": false
   },
   "outputs": [
    {
     "name": "stdout",
     "output_type": "stream",
     "text": [
      "[<function large_order_promo at 0x106cd6950>, <function bulk_item_promo at 0x106cd6730>, <function fidelity_promo at 0x106cd6840>]\n",
      "<Order total:10.00 due : 9.30>\n"
     ]
    }
   ],
   "source": [
    "\"\"\"\n",
    "1、使用python的内置函数globals(),它返回一个字典，表示当前的全局符号表，这个符号表始终针对当前模块(对函数或者方法来说，指定义她们的模块)\n",
    "\n",
    "因此，我们可以使用globals函数找到除best_promo外其他可用的*_promo函数。\n",
    "\"\"\"\n",
    "\n",
    "promos = [globals()[name] for name in globals() if name.endswith('_promo') and name!= 'best_promo']\n",
    "print(promos)\n",
    "print(Order(joe,long_order,best_promo))"
   ]
  },
  {
   "cell_type": "code",
   "execution_count": 17,
   "metadata": {
    "collapsed": false
   },
   "outputs": [
    {
     "name": "stdout",
     "output_type": "stream",
     "text": [
      "[<function bulk_item_promo at 0x106cd6048>, <function fidelity_promo at 0x106baab70>, <function large_order_promo at 0x106cd6598>]\n",
      "<Order total:10.00 due : 9.30>\n"
     ]
    }
   ],
   "source": [
    "\"\"\"\n",
    "2、使用一个单独的模块保存所有的策略函数，并使用inspect模块进行导入\n",
    "inspect.getmembers函数用于获取对象的属性，inspect.isfunction判断对象是否是一个函数\n",
    "\"\"\"\n",
    "import promotions\n",
    "import inspect\n",
    "promos = [func for name,func in inspect.getmembers(promotions,inspect.isfunction)]\n",
    "print(promos)\n",
    "print(Order(joe,long_order,best_promo))"
   ]
  },
  {
   "cell_type": "code",
   "execution_count": null,
   "metadata": {
    "collapsed": true
   },
   "outputs": [],
   "source": []
  }
 ],
 "metadata": {
  "kernelspec": {
   "display_name": "Python [conda root]",
   "language": "python",
   "name": "conda-root-py"
  },
  "language_info": {
   "codemirror_mode": {
    "name": "ipython",
    "version": 3
   },
   "file_extension": ".py",
   "mimetype": "text/x-python",
   "name": "python",
   "nbconvert_exporter": "python",
   "pygments_lexer": "ipython3",
   "version": "3.5.2"
  }
 },
 "nbformat": 4,
 "nbformat_minor": 1
}
