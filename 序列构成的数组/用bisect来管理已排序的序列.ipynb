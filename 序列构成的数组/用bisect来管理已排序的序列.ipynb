{
 "cells": [
  {
   "cell_type": "code",
   "execution_count": 4,
   "metadata": {
    "collapsed": false
   },
   "outputs": [
    {
     "name": "stdout",
     "output_type": "stream",
     "text": [
      "9\n",
      "[1, 4, 5, 6, 7, 12, 15, 20, 21, 22, 23, 23, 26, 29, 30]\n"
     ]
    }
   ],
   "source": [
    "\"\"\"\n",
    "bisect模块主要包含两个函数，bisect和insort，两个函数利用二分查找算法在有序序列中查找或插入元素\n",
    "insort也是就地插入\n",
    "\"\"\"\n",
    "import bisect\n",
    "haystack = [1,4,5,6,7,12,15,20,21,23,23,26,29,30]\n",
    "print(bisect.bisect(haystack,22))\n",
    "bisect.insort(haystack,22)\n",
    "print(haystack)"
   ]
  },
  {
   "cell_type": "code",
   "execution_count": null,
   "metadata": {
    "collapsed": true
   },
   "outputs": [],
   "source": [
    "# bisect还有一个姊妹函数bisect_left，区别在于，bisect_left返回的插入位置是原序列中根被插入元素相等的元素位置，也就是新元素会放置于它\n",
    "# 相等的元素前面，而bisect相当于bisect_right，返回的是跟他相等的元素之后的位置\n",
    "print(bisect.bisect(haystack,23))\n",
    "print(bisect.bisect_left(haystack,))"
   ]
  }
 ],
 "metadata": {
  "anaconda-cloud": {},
  "kernelspec": {
   "display_name": "Python [conda root]",
   "language": "python",
   "name": "conda-root-py"
  },
  "language_info": {
   "codemirror_mode": {
    "name": "ipython",
    "version": 3
   },
   "file_extension": ".py",
   "mimetype": "text/x-python",
   "name": "python",
   "nbconvert_exporter": "python",
   "pygments_lexer": "ipython3",
   "version": "3.5.2"
  }
 },
 "nbformat": 4,
 "nbformat_minor": 1
}
