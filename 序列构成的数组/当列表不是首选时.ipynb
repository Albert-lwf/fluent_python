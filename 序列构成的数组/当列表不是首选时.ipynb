{
 "cells": [
  {
   "cell_type": "code",
   "execution_count": 3,
   "metadata": {
    "collapsed": false
   },
   "outputs": [
    {
     "name": "stdout",
     "output_type": "stream",
     "text": [
      "0.3087967198891347\n"
     ]
    }
   ],
   "source": [
    "# python中的list是python的内置数据类型，list中的数据类不必相同的，而array的中的类型必须全部相同。\n",
    "# 在list中的数据类型保存的是数据的存放的地址，简单的说就是指针，并非数据，这样保存一个list就太麻烦了，\n",
    "# 例如list1=[1,2,3,'a']需要4个指针和四个数据，增加了存储和消耗cpu。\n",
    "# 数组array同C语言一样，是数组的首地址\n",
    "# array方法的第一个参数是数据类型\n",
    "from array import array\n",
    "import random\n",
    "floats = array('d',(random.random() for i in range(10**7)))\n",
    "print(floats[-1])"
   ]
  },
  {
   "cell_type": "code",
   "execution_count": 4,
   "metadata": {
    "collapsed": false
   },
   "outputs": [
    {
     "data": {
      "text/plain": [
       "-2"
      ]
     },
     "execution_count": 4,
     "metadata": {},
     "output_type": "execute_result"
    }
   ],
   "source": [
    "# memoryview() 函数返回给定参数的内存查看对象(Momory view)。\n",
    "# 所谓内存查看对象，是指对支持缓冲区协议的数据进行包装，在不需要复制对象基础上允许Python代码访问。\n",
    "numbers = array('h',[-2,-1,0,1,2])\n",
    "memv = memoryview(numbers)\n",
    "memv[0]"
   ]
  },
  {
   "cell_type": "code",
   "execution_count": 5,
   "metadata": {
    "collapsed": false
   },
   "outputs": [
    {
     "name": "stdout",
     "output_type": "stream",
     "text": [
      "<memory at 0x106b7b588>\n"
     ]
    }
   ],
   "source": [
    "print(memv[1:4])"
   ]
  },
  {
   "cell_type": "code",
   "execution_count": 6,
   "metadata": {
    "collapsed": false
   },
   "outputs": [
    {
     "name": "stdout",
     "output_type": "stream",
     "text": [
      "deque([0, 1, 2, 3, 4, 5, 6, 7, 8, 9], maxlen=10)\n",
      "deque([7, 8, 9, 0, 1, 2, 3, 4, 5, 6], maxlen=10)\n",
      "deque([1, 2, 3, 4, 5, 6, 7, 8, 9, 0], maxlen=10)\n",
      "deque([-1, 1, 2, 3, 4, 5, 6, 7, 8, 9], maxlen=10)\n",
      "deque([3, 4, 5, 6, 7, 8, 9, 11, 22, 33], maxlen=10)\n",
      "deque([40, 30, 20, 10, 3, 4, 5, 6, 7, 8], maxlen=10)\n"
     ]
    }
   ],
   "source": [
    "# 双向队列\n",
    "# collections.deque类（双向队列）是一个线程安全、可以快速从两端添加或者删除元素的数据类型。\n",
    "from collections import deque\n",
    "dq = deque(range(10),maxlen = 10)\n",
    "print(dq)\n",
    "dq.rotate(3) # 最右边3个元素放到最左边\n",
    "print(dq) \n",
    "dq.rotate(-4) # 最左边4个元素放到最右边\n",
    "print(dq)\n",
    "dq.appendleft(-1) # 左侧插入一个元素\n",
    "print(dq) \n",
    "dq.extend([11,22,33]) # 右边插入3个元素，chao g\n",
    "print(dq)\n",
    "dq.extendleft([10,20,30,40])\n",
    "print(dq)"
   ]
  },
  {
   "cell_type": "code",
   "execution_count": null,
   "metadata": {
    "collapsed": true
   },
   "outputs": [],
   "source": []
  }
 ],
 "metadata": {
  "kernelspec": {
   "display_name": "Python [conda root]",
   "language": "python",
   "name": "conda-root-py"
  },
  "language_info": {
   "codemirror_mode": {
    "name": "ipython",
    "version": 3
   },
   "file_extension": ".py",
   "mimetype": "text/x-python",
   "name": "python",
   "nbconvert_exporter": "python",
   "pygments_lexer": "ipython3",
   "version": "3.5.2"
  }
 },
 "nbformat": 4,
 "nbformat_minor": 1
}
