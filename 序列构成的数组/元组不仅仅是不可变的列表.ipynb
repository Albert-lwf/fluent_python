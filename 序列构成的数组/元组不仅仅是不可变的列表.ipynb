{
 "cells": [
  {
   "cell_type": "code",
   "execution_count": 3,
   "metadata": {
    "collapsed": false
   },
   "outputs": [
    {
     "name": "stdout",
     "output_type": "stream",
     "text": [
      "BRACE342567\n",
      "ESPXDA205856\n",
      "USA311195885\n",
      "USA\n",
      "BRA\n",
      "ESP\n"
     ]
    }
   ],
   "source": [
    "# 元组不仅是不可变的列表，同时也可以用于没有名字的记录\n",
    "lax_coordinates = (33.9425,-118.408056)\n",
    "city,year,pop,chg,area = ('Tokyo',2003,32450,0.66,8014)\n",
    "traveler_ids = [('USA','311195885'),('BRA','CE342567'),('ESP','XDA205856')]\n",
    "\n",
    "for passport in sorted(traveler_ids):\n",
    "    print('%s%s' % passport)\n",
    "\n",
    "# 这里被称作元组拆包，第二个元素没有用到，用占位符表示\n",
    "for country,_ in traveler_ids:\n",
    "    print(country)"
   ]
  },
  {
   "cell_type": "code",
   "execution_count": 4,
   "metadata": {
    "collapsed": false
   },
   "outputs": [
    {
     "name": "stdout",
     "output_type": "stream",
     "text": [
      "33.9425\n",
      "-118.408056\n"
     ]
    }
   ],
   "source": [
    "# 上面我们已经用过元组拆包了，比如\n",
    "# 1、将元素分别复制给不同的变量：city,year,pop,chg,area = ('Tokyo',2003,32450,0.66,8014)\n",
    "# 2、将元素对应到print函数的格式字符串空档中\n",
    "lax_coordinates = (33.9425,-118.408056)\n",
    "latitude,longitude = lax_coordinates\n",
    "print(latitude)\n",
    "print(longitude)"
   ]
  },
  {
   "cell_type": "code",
   "execution_count": 5,
   "metadata": {
    "collapsed": false
   },
   "outputs": [
    {
     "data": {
      "text/plain": [
       "(2, 4)"
      ]
     },
     "execution_count": 5,
     "metadata": {},
     "output_type": "execute_result"
    }
   ],
   "source": [
    "# 可以用*运算符把一个可迭代对象拆开作为函数的参数\n",
    "divmod(20,8)"
   ]
  },
  {
   "cell_type": "code",
   "execution_count": 6,
   "metadata": {
    "collapsed": false
   },
   "outputs": [
    {
     "data": {
      "text/plain": [
       "(2, 4)"
      ]
     },
     "execution_count": 6,
     "metadata": {},
     "output_type": "execute_result"
    }
   ],
   "source": [
    "t = (20,8)\n",
    "divmod(*t)"
   ]
  },
  {
   "cell_type": "code",
   "execution_count": 7,
   "metadata": {
    "collapsed": false
   },
   "outputs": [
    {
     "name": "stdout",
     "output_type": "stream",
     "text": [
      "idrsa.pub\n"
     ]
    }
   ],
   "source": [
    "#在进行拆包的时候，对于不感兴趣的元素，可以用占位符_来处理\n",
    "import os\n",
    "_,filename = os.path.split('/home/luciano/.ssh/idrsa.pub')\n",
    "print(filename)"
   ]
  },
  {
   "cell_type": "code",
   "execution_count": 8,
   "metadata": {
    "collapsed": false
   },
   "outputs": [
    {
     "name": "stdout",
     "output_type": "stream",
     "text": [
      "0 1 [2, 3, 4]\n",
      "0 [1, 2, 3] 4\n"
     ]
    }
   ],
   "source": [
    "# 在元组拆包中使用*来处理剩下的元素，但是*只能用在一个变量名前面，可以出现在任意位置\n",
    "a,b,*rest = range(5)\n",
    "print(a,b,rest)\n",
    "a,*body,c = range(5)\n",
    "print(a,body,c)"
   ]
  },
  {
   "cell_type": "code",
   "execution_count": 9,
   "metadata": {
    "collapsed": false
   },
   "outputs": [
    {
     "name": "stdout",
     "output_type": "stream",
     "text": [
      "1 2 3 4 5\n"
     ]
    }
   ],
   "source": [
    "#嵌套元组拆包\n",
    "a,b,c,(d,e) = (1,2,3,(4,5))\n",
    "print(a,b,c,d,e)"
   ]
  },
  {
   "cell_type": "code",
   "execution_count": 12,
   "metadata": {
    "collapsed": false
   },
   "outputs": [
    {
     "name": "stdout",
     "output_type": "stream",
     "text": [
      "36.933\n",
      "(35.689722, 139.691667)\n"
     ]
    }
   ],
   "source": [
    "#元组用作记录的话，缺点是没有字段名，namedtuple函数出现帮我们解决了这个问题。\n",
    "# namedtuple被称作具名元组\n",
    "# collections.namedtuple是一个工厂函数，可以用来构建一个带字段名的元组和一个有名字的类\n",
    "# 用namedtuple构建的类的实例所消耗的内存根元组是一样的，因为字段名都会被存在对应的类里面。\n",
    "from collections import namedtuple\n",
    "City = namedtuple('City','name country population coordinates')\n",
    "# 等价于 City = namedtuple('City',['name','country','population','coordinates'])\n",
    "tokyo = City('Tokyo','JP',36.933,(35.689722,139.691667))\n",
    "print(tokyo.population)\n",
    "print(tokyo.coordinates)\n"
   ]
  },
  {
   "cell_type": "code",
   "execution_count": 14,
   "metadata": {
    "collapsed": false
   },
   "outputs": [
    {
     "name": "stdout",
     "output_type": "stream",
     "text": [
      "('name', 'country', 'population', 'coordinates')\n",
      "City(name='Delhi NCR', country='IN', population=21.935, coordinates=(28.613889, 77.208889))\n",
      "OrderedDict([('name', 'Delhi NCR'), ('country', 'IN'), ('population', 21.935), ('coordinates', (28.613889, 77.208889))])\n"
     ]
    }
   ],
   "source": [
    "# 具名元组有一些自己专有的属性\n",
    "# _fields类属性\n",
    "# 类方法_make\n",
    "# 实例方法_asdict()\n",
    "print(City._fields) # ('name', 'country', 'population', 'coordinates')\n",
    "delhi_data = ('Delhi NCR','IN',21.935,(28.613889,77.208889))\n",
    "delhi = City._make(delhi_data)# 将一个元组变为City类的实例\n",
    "print(delhi)\n",
    "print(delhi._asdict()) # 将实例变为collections.OrderedDict返回"
   ]
  },
  {
   "cell_type": "code",
   "execution_count": null,
   "metadata": {
    "collapsed": true
   },
   "outputs": [],
   "source": []
  }
 ],
 "metadata": {
  "anaconda-cloud": {},
  "kernelspec": {
   "display_name": "Python [conda root]",
   "language": "python",
   "name": "conda-root-py"
  },
  "language_info": {
   "codemirror_mode": {
    "name": "ipython",
    "version": 3
   },
   "file_extension": ".py",
   "mimetype": "text/x-python",
   "name": "python",
   "nbconvert_exporter": "python",
   "pygments_lexer": "ipython3",
   "version": "3.5.2"
  }
 },
 "nbformat": 4,
 "nbformat_minor": 1
}
