{
 "cells": [
  {
   "cell_type": "code",
   "execution_count": 1,
   "metadata": {
    "collapsed": false
   },
   "outputs": [
    {
     "data": {
      "text/plain": [
       "'\\n本节介绍两个包：operator，functools。这两个包的存在，使得Python函数式编程风格信手拈来\\n'"
      ]
     },
     "execution_count": 1,
     "metadata": {},
     "output_type": "execute_result"
    }
   ],
   "source": [
    "\"\"\"\n",
    "本节介绍两个包：operator，functools。这两个包的存在，使得Python函数式编程风格信手拈来\n",
    "\"\"\""
   ]
  },
  {
   "cell_type": "code",
   "execution_count": 2,
   "metadata": {
    "collapsed": false
   },
   "outputs": [
    {
     "name": "stdout",
     "output_type": "stream",
     "text": [
      "720\n"
     ]
    }
   ],
   "source": [
    "\"\"\"\n",
    "1、operator模块\n",
    "operator模块为多个算术运算符提供了对应的函数，从而避免写lambda a,b : a*b 这种平凡的匿名函数\n",
    "\"\"\"\n",
    "from functools import reduce\n",
    "from operator import mul\n",
    "def fact(n):\n",
    "    return reduce(mul,range(1,n+1))\n",
    "print(fact(6))"
   ]
  },
  {
   "cell_type": "code",
   "execution_count": 3,
   "metadata": {
    "collapsed": false
   },
   "outputs": [
    {
     "name": "stdout",
     "output_type": "stream",
     "text": [
      "('Delhi', 'IN', 21.935, (28.613, 7720))\n",
      "('Tokyo', 'JP', 36.933, (35.689722, 139.691667))\n",
      "('Mexico City', 'MX', 20.142, (19.433, -99.1333))\n"
     ]
    }
   ],
   "source": [
    "\"\"\"\n",
    "operator模块还有一类函数，能替代从序列中取出元素或读取对象属性delambda表达式：因此，itemgetter和attrgetter其实会自行构建函数\n",
    "\"\"\"\n",
    "\n",
    "\"\"\"\n",
    "itemgetter的常见元素：根据元组的某个字段给元组列表排序\n",
    "\"\"\"\n",
    "metro_data = [\n",
    "    ('Tokyo','JP',36.933,(35.689722,139.691667)),\n",
    "    ('Delhi','IN',21.935,(28.613,7720)),\n",
    "    ('Mexico City','MX',20.142,(19.433,-99.1333))\n",
    "]\n",
    "\n",
    "from operator import itemgetter\n",
    "for city in sorted(metro_data,key=itemgetter(1)):\n",
    "    print(city)"
   ]
  },
  {
   "cell_type": "code",
   "execution_count": 4,
   "metadata": {
    "collapsed": false
   },
   "outputs": [
    {
     "name": "stdout",
     "output_type": "stream",
     "text": [
      "('JP', 'Tokyo')\n",
      "('IN', 'Delhi')\n",
      "('MX', 'Mexico City')\n"
     ]
    }
   ],
   "source": [
    "\"\"\"\n",
    "如果把多个参数传给itemgetter，它构建的函数会返回提取的值构成的元组\n",
    "\"\"\"\n",
    "cc_name = itemgetter(1,0)\n",
    "for city in metro_data:\n",
    "    print(cc_name(city))"
   ]
  },
  {
   "cell_type": "code",
   "execution_count": 5,
   "metadata": {
    "collapsed": false
   },
   "outputs": [
    {
     "name": "stdout",
     "output_type": "stream",
     "text": [
      "Metropolis(name='Tokyo', cc='JP', pop=36.933, coord=LatLong(lat=35.689722, long=139.691667))\n"
     ]
    }
   ],
   "source": [
    "\"\"\"\n",
    "attrgetter，创建的函数根据名称提取对象的属性，如果把多个属性名传给attrgetter，它也会返回提取的值构成的元组\n",
    "attrgetter会深入嵌套对象，获取指定的属性\n",
    "\"\"\"\n",
    "from collections import namedtuple\n",
    "LatLong = namedtuple('LatLong','lat long')\n",
    "Metropolis = namedtuple('Metropolis','name cc pop coord')\n",
    "metro_areas = [Metropolis(name,cc,pop,LatLong(lat,long)) for name,cc,pop,(lat,long) in metro_data]\n",
    "\n",
    "print(metro_areas[0])\n"
   ]
  },
  {
   "cell_type": "code",
   "execution_count": 6,
   "metadata": {
    "collapsed": false
   },
   "outputs": [
    {
     "name": "stdout",
     "output_type": "stream",
     "text": [
      "35.689722\n",
      "('Mexico City', 19.433)\n",
      "('Delhi', 28.613)\n",
      "('Tokyo', 35.689722)\n"
     ]
    }
   ],
   "source": [
    "print(metro_areas[0].coord.lat)\n",
    "from operator import attrgetter\n",
    "name_lat = attrgetter('name','coord.lat')\n",
    "for city in sorted(metro_areas,key=attrgetter('coord.lat')):\n",
    "    print(name_lat(city))"
   ]
  },
  {
   "cell_type": "code",
   "execution_count": 7,
   "metadata": {
    "collapsed": false
   },
   "outputs": [
    {
     "data": {
      "text/plain": [
       "'THE TIME HAS COME'"
      ]
     },
     "execution_count": 7,
     "metadata": {},
     "output_type": "execute_result"
    }
   ],
   "source": [
    "\"\"\"\n",
    "methodcaller创建的函数会在对象上调用参数指定的方法\n",
    "\"\"\"\n",
    "from operator import methodcaller\n",
    "s = 'The time has come'\n",
    "upcase = methodcaller('upper')\n",
    "upcase(s)"
   ]
  },
  {
   "cell_type": "markdown",
   "metadata": {},
   "source": [
    "\"\"\"\n",
    "functools\n",
    "\"\"\""
   ]
  },
  {
   "cell_type": "code",
   "execution_count": 8,
   "metadata": {
    "collapsed": false
   },
   "outputs": [
    {
     "data": {
      "text/plain": [
       "21"
      ]
     },
     "execution_count": 8,
     "metadata": {},
     "output_type": "execute_result"
    }
   ],
   "source": [
    "\"\"\"\n",
    "functools模块提供了一系列高阶函数，其中最为熟知的就是reduce，这里我们介绍一个partial，它可以冻结函数的部分参数\n",
    "\"\"\"\n",
    "from operator import mul\n",
    "from functools import partial\n",
    "triple = partial(mul,3)\n",
    "triple(7)"
   ]
  },
  {
   "cell_type": "code",
   "execution_count": null,
   "metadata": {
    "collapsed": true
   },
   "outputs": [],
   "source": []
  }
 ],
 "metadata": {
  "kernelspec": {
   "display_name": "Python [conda root]",
   "language": "python",
   "name": "conda-root-py"
  },
  "language_info": {
   "codemirror_mode": {
    "name": "ipython",
    "version": 3
   },
   "file_extension": ".py",
   "mimetype": "text/x-python",
   "name": "python",
   "nbconvert_exporter": "python",
   "pygments_lexer": "ipython3",
   "version": "3.5.2"
  }
 },
 "nbformat": 4,
 "nbformat_minor": 1
}
