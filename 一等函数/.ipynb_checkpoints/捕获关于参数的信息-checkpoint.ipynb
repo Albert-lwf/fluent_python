{
 "cells": [
  {
   "cell_type": "code",
   "execution_count": 7,
   "metadata": {
    "collapsed": false
   },
   "outputs": [
    {
     "name": "stdout",
     "output_type": "stream",
     "text": [
      "(80,)\n",
      "{'tt': 20}\n",
      "<code object clip at 0x106dae540, file \"<ipython-input-7-0c98c08d83de>\", line 5>\n",
      "('text', 'max_len', 'tt', 'content', 'end', 'space_before', 'space_after')\n",
      "2\n"
     ]
    }
   ],
   "source": [
    "\"\"\"\n",
    "函数对象里有个__defaults__属性，它的值是一个元组，里面保存着定位参数和关键字参数的默认值\n",
    "仅限关键字参数的默认值在__kwdefaults__属性中。参数的名称在__code__属性中\n",
    "\"\"\"\n",
    "def clip(text,max_len=80,*content,tt = 20):\n",
    "    end = None\n",
    "    if len(text) > max_len:\n",
    "        space_before = text.rfind(' ',0,max_len)\n",
    "        if space_before >= 0:\n",
    "            end = space_before\n",
    "        else:\n",
    "            space_after = text.rfind(' ',max_len)\n",
    "            if space_after >= 0:\n",
    "                end = space_after\n",
    "    if end is None:\n",
    "        end = len(text)\n",
    "    return text[:end].strip()\n",
    "\n",
    "\n",
    "print(clip.__defaults__) # 定位参数和关键字参数的默认值\n",
    "print(clip.__kwdefaults__) # 仅限关键字参数的默认值\n",
    "print(clip.__code__)\n",
    "print(clip.__code__.co_varnames) # 这里包含传入的参数以及函数内部定义的参数\n",
    "print(clip.__code__.co_argcount) # 这里是传入参数的个数"
   ]
  },
  {
   "cell_type": "code",
   "execution_count": 8,
   "metadata": {
    "collapsed": false
   },
   "outputs": [
    {
     "name": "stdout",
     "output_type": "stream",
     "text": [
      "(text, max_len=80, *content, tt=20)\n",
      "POSITIONAL_OR_KEYWORD : text = <class 'inspect._empty'>\n",
      "POSITIONAL_OR_KEYWORD : max_len = 80\n",
      "VAR_POSITIONAL : content = <class 'inspect._empty'>\n",
      "KEYWORD_ONLY : tt = 20\n"
     ]
    }
   ],
   "source": [
    "\"\"\"\n",
    "我们有更好的方式来了解一个函数，那就是使用inspect模块。\n",
    "比如我们下面的例子来提取函数的签名\n",
    "\"\"\"\n",
    "from inspect import signature\n",
    "sig = signature(clip)\n",
    "print(str(sig))\n",
    "for name,param in sig.parameters.items():\n",
    "    print(param.kind,\":\",name,'=',param.default)"
   ]
  },
  {
   "cell_type": "code",
   "execution_count": null,
   "metadata": {
    "collapsed": true
   },
   "outputs": [],
   "source": [
    "\"\"\"\n",
    "上面的例子中，参数的种类共有五种\n",
    "1、POSITIONAL_OR_KEYWORD : 定位参数和关键字参数传入的形参\n",
    "2、VAR_POSITIONAL ： 定位参数元组\n",
    "3、VAR_KEYWORD ： 关键字参数字典\n",
    "4、KEYWORD_ONLY ： 仅限关键字参数\n",
    "5、POSITIONAL_ONLY ： 仅限定位参数（Python不支持）\n",
    "\"\"\""
   ]
  }
 ],
 "metadata": {
  "kernelspec": {
   "display_name": "Python [conda root]",
   "language": "python",
   "name": "conda-root-py"
  },
  "language_info": {
   "codemirror_mode": {
    "name": "ipython",
    "version": 3
   },
   "file_extension": ".py",
   "mimetype": "text/x-python",
   "name": "python",
   "nbconvert_exporter": "python",
   "pygments_lexer": "ipython3",
   "version": "3.5.2"
  }
 },
 "nbformat": 4,
 "nbformat_minor": 1
}
