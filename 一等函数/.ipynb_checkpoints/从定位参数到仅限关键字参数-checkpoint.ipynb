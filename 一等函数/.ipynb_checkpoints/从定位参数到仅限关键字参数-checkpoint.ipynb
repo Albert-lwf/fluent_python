{
 "cells": [
  {
   "cell_type": "code",
   "execution_count": 1,
   "metadata": {
    "collapsed": true
   },
   "outputs": [],
   "source": [
    "\"\"\"\n",
    "Python最好的特性之一是提供了极为灵活的参数处理机制，Python3进一步提供了仅限关键字参数。\n",
    "\"\"\"\n",
    "def tag(name,*content,cls=None,**attrs):\n",
    "    \"\"\"\n",
    "    第一个参数之后的任意个参数会被*content捕获\n",
    "    这里的content并不是具名参数\n",
    "    \"\"\"\n",
    "    if cls is not None:\n",
    "        attrs['class'] = cls\n",
    "    if attrs:\n",
    "        attr_str = ''.join(' %s=\"%s\"' % (attr,value) for attr,value in sorted(attrs.items()))\n",
    "    else:\n",
    "        attr_str = ''\n",
    "    \n",
    "    if content:\n",
    "        return '\\n'.join('<%s%s>%s</%s>' % (name,attr_str,c,name) for c in content)\n",
    "    else:\n",
    "        return '<%s%s />' % (name,attr_str)"
   ]
  },
  {
   "cell_type": "code",
   "execution_count": 2,
   "metadata": {
    "collapsed": false
   },
   "outputs": [
    {
     "name": "stdout",
     "output_type": "stream",
     "text": [
      "<br />\n",
      "<p>hello</p>\n",
      "<p>hello</p>\n",
      "<p>world</p>\n",
      "<p id=\"33\">hello</p>\n",
      "<p class=\"sidebar\">hello</p>\n",
      "<p class=\"sidebar\">world</p>\n",
      "<img content=\"testing\" />\n",
      "<img class=\"framed\" src=\"sunset.jpg\" title=\"Sunset Boulevard\" />\n"
     ]
    }
   ],
   "source": [
    "print(tag('br'))\n",
    "print(tag('p','hello'))\n",
    "print(tag('p','hello','world'))\n",
    "print(tag('p','hello',id=33))\n",
    "print(tag('p','hello','world',cls='sidebar'))\n",
    "print(tag(content = 'testing',name='img'))# 这里这个content会被attrs捕获\n",
    "my_tag = {'name':'img','title':'Sunset Boulevard','src':'sunset.jpg','cls':'framed'}\n",
    "print(tag(**my_tag)) # 在my_tag前加上**，字典中的所有元素被当作单个参数传入，同名键会绑定到对应的具名参数上，剩下的被**attr捕获"
   ]
  },
  {
   "cell_type": "code",
   "execution_count": null,
   "metadata": {
    "collapsed": true
   },
   "outputs": [],
   "source": [
    "\"\"\"\n",
    "从上面的例子可以看出：\n",
    "1、仅限关键字参数，要放到前面有*的参数后面\n",
    "2、*content是一个可以捕获数量不定的参数的定位参数\n",
    "3、在my_tag前加上**，字典中的所有元素被当作单个参数传入，同名键会绑定到对应的具名参数上，剩下的被**attr捕获\n",
    "4、虽然定义了*content，但在调用函数时指定的content = 'testing'，被attrs捕获。\n",
    "\"\"\""
   ]
  }
 ],
 "metadata": {
  "kernelspec": {
   "display_name": "Python [conda root]",
   "language": "python",
   "name": "conda-root-py"
  },
  "language_info": {
   "codemirror_mode": {
    "name": "ipython",
    "version": 3
   },
   "file_extension": ".py",
   "mimetype": "text/x-python",
   "name": "python",
   "nbconvert_exporter": "python",
   "pygments_lexer": "ipython3",
   "version": "3.5.2"
  }
 },
 "nbformat": 4,
 "nbformat_minor": 1
}
