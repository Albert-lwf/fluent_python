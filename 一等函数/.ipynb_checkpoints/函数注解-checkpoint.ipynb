{
 "cells": [
  {
   "cell_type": "code",
   "execution_count": 2,
   "metadata": {
    "collapsed": false
   },
   "outputs": [
    {
     "name": "stdout",
     "output_type": "stream",
     "text": [
      "{'text': <class 'str'>, 'return': <class 'str'>, 'max_len': 'int > 0'}\n"
     ]
    }
   ],
   "source": [
    "\"\"\"\n",
    "Python3 提供了一种句法，用于为函数声明中的参数和返回值附加元数据\n",
    "\"\"\"\n",
    "def clip(text:str,max_len:'int > 0'=80) -> str:\n",
    "    end = None\n",
    "    if len(text) > max_len:\n",
    "        space_before = text.rfind(' ',0,max_len)\n",
    "        if space_before >= 0:\n",
    "            end = space_before\n",
    "        else:\n",
    "            space_after = text.rfind(' ',max_len)\n",
    "            if space_after >= 0:\n",
    "                end = space_after\n",
    "    if end is None:\n",
    "        end = len(text)\n",
    "    return text[:end].strip()\n",
    "# 查看函数注解\n",
    "print(clip.__annotations__)"
   ]
  },
  {
   "cell_type": "code",
   "execution_count": 3,
   "metadata": {
    "collapsed": false
   },
   "outputs": [
    {
     "name": "stdout",
     "output_type": "stream",
     "text": [
      "ssf ss\n"
     ]
    }
   ],
   "source": [
    "\"\"\"\n",
    "虽然我们提供了注解，但是Python并不会根据注解进行检查，比如我们传递一个长度小于0的max_len,不会抱错\n",
    "\"\"\"\n",
    "print(clip('ssf ss s ',-1))"
   ]
  },
  {
   "cell_type": "code",
   "execution_count": 4,
   "metadata": {
    "collapsed": false
   },
   "outputs": [
    {
     "name": "stdout",
     "output_type": "stream",
     "text": [
      "<class 'str'>\n",
      "<class 'str'> : text = <class 'inspect._empty'>\n",
      "'int > 0'     : max_len = 80\n"
     ]
    }
   ],
   "source": [
    "\"\"\"\n",
    "当然，我们也可以用inspect包来提取注解\n",
    "\"\"\"\n",
    "from inspect import signature\n",
    "sig = signature(clip)\n",
    "print(sig.return_annotation)\n",
    "for param in sig.parameters.values():\n",
    "    note = repr(param.annotation).ljust(13)\n",
    "    print(note,':',param.name,\"=\",param.default)"
   ]
  },
  {
   "cell_type": "code",
   "execution_count": null,
   "metadata": {
    "collapsed": true
   },
   "outputs": [],
   "source": []
  }
 ],
 "metadata": {
  "kernelspec": {
   "display_name": "Python [conda root]",
   "language": "python",
   "name": "conda-root-py"
  },
  "language_info": {
   "codemirror_mode": {
    "name": "ipython",
    "version": 3
   },
   "file_extension": ".py",
   "mimetype": "text/x-python",
   "name": "python",
   "nbconvert_exporter": "python",
   "pygments_lexer": "ipython3",
   "version": "3.5.2"
  }
 },
 "nbformat": 4,
 "nbformat_minor": 1
}
