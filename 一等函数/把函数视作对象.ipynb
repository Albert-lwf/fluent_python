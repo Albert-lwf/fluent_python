{
 "cells": [
  {
   "cell_type": "code",
   "execution_count": 6,
   "metadata": {
    "collapsed": false
   },
   "outputs": [
    {
     "data": {
      "text/plain": [
       "'\\nPython中，函数是一等对象，一等对象定义为满足下述条件的程序实体\\n1、在运行时创建\\n2、能赋值给变量或数据结构中的元素\\n3、能作为参数传给函数\\n4、能作为函数的返回结果\\n'"
      ]
     },
     "execution_count": 6,
     "metadata": {},
     "output_type": "execute_result"
    }
   ],
   "source": [
    "\"\"\"\n",
    "Python中，函数是一等对象，一等对象定义为满足下述条件的程序实体\n",
    "1、在运行时创建\n",
    "2、能赋值给变量或数据结构中的元素\n",
    "3、能作为参数传给函数\n",
    "4、能作为函数的返回结果\n",
    "\"\"\"\n"
   ]
  },
  {
   "cell_type": "code",
   "execution_count": 5,
   "metadata": {
    "collapsed": false
   },
   "outputs": [
    {
     "name": "stdout",
     "output_type": "stream",
     "text": [
      "2432902008176640000\n",
      "<class 'function'>\n"
     ]
    }
   ],
   "source": [
    "\"\"\"\n",
    "python中，函数可以被视作对象\n",
    "\"\"\"\n",
    "def factorial(n):\n",
    "    \"\"\"return s\"\"\"\n",
    "    return 1 if n<2 else n * factorial(n-1)\n",
    "print(factorial(20))\n",
    "print(type(factorial))"
   ]
  },
  {
   "cell_type": "code",
   "execution_count": 7,
   "metadata": {
    "collapsed": false
   },
   "outputs": [
    {
     "name": "stdout",
     "output_type": "stream",
     "text": [
      "<function factorial at 0x106baac80>\n",
      "120\n"
     ]
    }
   ],
   "source": [
    "# 把函数名赋值给对象\n",
    "fact = factorial\n",
    "print(fact)\n",
    "print(fact(5))"
   ]
  },
  {
   "cell_type": "code",
   "execution_count": null,
   "metadata": {
    "collapsed": true
   },
   "outputs": [],
   "source": []
  }
 ],
 "metadata": {
  "kernelspec": {
   "display_name": "Python [conda root]",
   "language": "python",
   "name": "conda-root-py"
  },
  "language_info": {
   "codemirror_mode": {
    "name": "ipython",
    "version": 3
   },
   "file_extension": ".py",
   "mimetype": "text/x-python",
   "name": "python",
   "nbconvert_exporter": "python",
   "pygments_lexer": "ipython3",
   "version": "3.5.2"
  }
 },
 "nbformat": 4,
 "nbformat_minor": 1
}
