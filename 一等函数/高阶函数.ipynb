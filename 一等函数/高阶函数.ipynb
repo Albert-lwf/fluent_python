{
 "cells": [
  {
   "cell_type": "code",
   "execution_count": 1,
   "metadata": {
    "collapsed": false
   },
   "outputs": [
    {
     "name": "stdout",
     "output_type": "stream",
     "text": [
      "['fig', 'apple', 'cherry', 'banana', 'raspberry', 'strawberry']\n",
      "['banana', 'apple', 'fig', 'raspberry', 'strawberry', 'cherry']\n"
     ]
    }
   ],
   "source": [
    "\"\"\"\n",
    "接受函数为参数，或者把函数作为结果返回的函数是高阶函数，map，sorted等都是常见的高阶函数\n",
    "\"\"\"\n",
    "fruits = ['strawberry','fig','apple','cherry','raspberry','banana']\n",
    "print(sorted(fruits,key=len))\n",
    "def reverse(word):\n",
    "    return word[::-1]\n",
    "print(sorted(fruits,key=reverse))"
   ]
  },
  {
   "cell_type": "code",
   "execution_count": 2,
   "metadata": {
    "collapsed": false
   },
   "outputs": [
    {
     "name": "stdout",
     "output_type": "stream",
     "text": [
      "<map object at 0x106ab7a20>\n",
      "[1, 1, 2, 6, 24, 120]\n",
      "[1, 1, 2, 6, 24, 120]\n"
     ]
    }
   ],
   "source": [
    "\"\"\"\n",
    "在函数式编程规范中，最为人熟知的高阶函数有map、filter、reduce。\n",
    "不过现在，在多数场景下我们有更好的替代品\n",
    "\"\"\"\n",
    "\"\"\"\n",
    "1、使用列表推导式代替map\n",
    "\"\"\"\n",
    "def fact(n):\n",
    "    return 1 if n<2 else n * fact(n-1)\n",
    "print(map(fact,range(6))) # 必须使用list来强制转换成list类型\n",
    "print(list(map(fact,range(6))))\n",
    "print([fact(n) for n in range(6)])"
   ]
  },
  {
   "cell_type": "code",
   "execution_count": 6,
   "metadata": {
    "collapsed": false
   },
   "outputs": [
    {
     "name": "stdout",
     "output_type": "stream",
     "text": [
      "[1, 6, 120]\n",
      "[1, 6, 120]\n"
     ]
    }
   ],
   "source": [
    "\"\"\"\n",
    "2、替换filter\n",
    "\"\"\"\n",
    "print(list(map(fact,filter(lambda n:n%2,range(6)))))\n",
    "print([fact(n) for n in range(6) if n % 2])"
   ]
  },
  {
   "cell_type": "code",
   "execution_count": 7,
   "metadata": {
    "collapsed": false
   },
   "outputs": [
    {
     "name": "stdout",
     "output_type": "stream",
     "text": [
      "4950\n",
      "4950\n"
     ]
    }
   ],
   "source": [
    "\"\"\"\n",
    "python2中reduce是内置函数，python3中放到functools模块中了，最常用于求和。\n",
    "\"\"\"\n",
    "from functools import reduce\n",
    "from operator import add\n",
    "print(reduce(add,range(100)))\n",
    "print(sum(range(100)))"
   ]
  },
  {
   "cell_type": "code",
   "execution_count": null,
   "metadata": {
    "collapsed": true
   },
   "outputs": [],
   "source": [
    "\"\"\"\n",
    "all(iterable) 如果每个元素都是真值，返回True\n",
    "\n",
    "\n",
    "any(iterable) 如果有元素是真值，返回True\n",
    "\"\"\""
   ]
  }
 ],
 "metadata": {
  "kernelspec": {
   "display_name": "Python [conda root]",
   "language": "python",
   "name": "conda-root-py"
  },
  "language_info": {
   "codemirror_mode": {
    "name": "ipython",
    "version": 3
   },
   "file_extension": ".py",
   "mimetype": "text/x-python",
   "name": "python",
   "nbconvert_exporter": "python",
   "pygments_lexer": "ipython3",
   "version": "3.5.2"
  }
 },
 "nbformat": 4,
 "nbformat_minor": 1
}
