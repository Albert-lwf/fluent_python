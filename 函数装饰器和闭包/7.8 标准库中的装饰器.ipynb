{
 "cells": [
  {
   "cell_type": "code",
   "execution_count": 1,
   "metadata": {
    "collapsed": false
   },
   "outputs": [
    {
     "data": {
      "text/plain": [
       "'\\n标准库中最值得关注的两个装饰器是lru_cache和全新的singledispatch(Python3.4新增)\\n'"
      ]
     },
     "execution_count": 1,
     "metadata": {},
     "output_type": "execute_result"
    }
   ],
   "source": [
    "\"\"\"\n",
    "标准库中最值得关注的两个装饰器是lru_cache和全新的singledispatch(Python3.4新增)\n",
    "\"\"\""
   ]
  },
  {
   "cell_type": "code",
   "execution_count": 2,
   "metadata": {
    "collapsed": false
   },
   "outputs": [
    {
     "name": "stdout",
     "output_type": "stream",
     "text": [
      "[0.00000046s] fibonacci(0) -> 0\n",
      "[0.00000046s] fibonacci(1) -> 1\n",
      "[0.00008797s] fibonacci(2) -> 1\n",
      "[0.00000035s] fibonacci(1) -> 1\n",
      "[0.00000036s] fibonacci(0) -> 0\n",
      "[0.00000028s] fibonacci(1) -> 1\n",
      "[0.00001353s] fibonacci(2) -> 1\n",
      "[0.00003632s] fibonacci(3) -> 2\n",
      "[0.00013862s] fibonacci(4) -> 3\n",
      "[0.00000031s] fibonacci(1) -> 1\n",
      "[0.00000029s] fibonacci(0) -> 0\n",
      "[0.00000028s] fibonacci(1) -> 1\n",
      "[0.00001250s] fibonacci(2) -> 1\n",
      "[0.00002536s] fibonacci(3) -> 2\n",
      "[0.00000028s] fibonacci(0) -> 0\n",
      "[0.00000027s] fibonacci(1) -> 1\n",
      "[0.00001228s] fibonacci(2) -> 1\n",
      "[0.00000031s] fibonacci(1) -> 1\n",
      "[0.00000032s] fibonacci(0) -> 0\n",
      "[0.00000041s] fibonacci(1) -> 1\n",
      "[0.00015399s] fibonacci(2) -> 1\n",
      "[0.00016685s] fibonacci(3) -> 2\n",
      "[0.00019111s] fibonacci(4) -> 3\n",
      "[0.00022864s] fibonacci(5) -> 5\n",
      "[0.00038088s] fibonacci(6) -> 8\n",
      "8\n"
     ]
    }
   ],
   "source": [
    "\"\"\"\n",
    "1、使用lru_cache来保存函数的结果\n",
    "\"\"\"\n",
    "import time\n",
    "import functools\n",
    "\n",
    "def clock(func):\n",
    "    @functools.wraps(func)\n",
    "    def clocked(*args):\n",
    "        t0 = time.perf_counter()\n",
    "        result = func(*args)\n",
    "        elapsed = time.perf_counter() - t0\n",
    "        name = func.__name__\n",
    "        arg_str = ','.join(repr(arg) for arg in args)\n",
    "        print('[%0.8fs] %s(%s) -> %r' % (elapsed,name,arg_str,result))\n",
    "        return result\n",
    "    return clocked\n",
    "\n",
    "@clock\n",
    "def fibonacci(n):\n",
    "    if n < 2:\n",
    "        return n\n",
    "    return fibonacci(n-2) + fibonacci(n-1)\n",
    "print(fibonacci(6))"
   ]
  },
  {
   "cell_type": "code",
   "execution_count": 3,
   "metadata": {
    "collapsed": false
   },
   "outputs": [
    {
     "name": "stdout",
     "output_type": "stream",
     "text": [
      "[0.00000069s] fibonacci(0) -> 0\n",
      "[0.00000046s] fibonacci(1) -> 1\n",
      "[0.00005154s] fibonacci(2) -> 1\n",
      "[0.00000089s] fibonacci(3) -> 2\n",
      "[0.00006985s] fibonacci(4) -> 3\n",
      "[0.00000067s] fibonacci(5) -> 5\n",
      "[0.00008737s] fibonacci(6) -> 8\n",
      "8\n"
     ]
    }
   ],
   "source": [
    "\"\"\"\n",
    "可以看到，由于自顶向下的运行，会造成很多不必要的重复计算，比如fibonacci(1)计算了8次，这时候我们的functools.lru_cache就可以派上用场了。\n",
    "可以看到，使用functools.lru_cache有效避免了重复计算\n",
    "\"\"\"\n",
    "@functools.lru_cache()\n",
    "@clock\n",
    "def fibonacci(n):\n",
    "    if n < 2:\n",
    "        return n\n",
    "    return fibonacci(n-2) + fibonacci(n-1)\n",
    "print(fibonacci(6))"
   ]
  },
  {
   "cell_type": "code",
   "execution_count": 5,
   "metadata": {
    "collapsed": false
   },
   "outputs": [
    {
     "name": "stdout",
     "output_type": "stream",
     "text": [
      "<pre>{1, 2, 3}</pre>\n",
      "<pre>&lt;built-in function abs&gt;</pre>\n",
      "<pre>42 (0x2a)</pre>\n",
      "<ul>\n",
      "<li><p>alpha</p></li>\n",
      "<li><pre>66 (0x42)</pre></li>\n",
      "<li><pre>{1, 2, 3}</pre></li>\n",
      "</ul>\n"
     ]
    }
   ],
   "source": [
    "\"\"\"\n",
    "2、单分派泛函数\n",
    "\n",
    "假设我们再开发一个调试Web应用的工具，我们想生存HTML，显示不同类型的Python对象。但Python不支持重载方法或函数，所以我们会使用到\n",
    "functools.singledispatch装饰器，将普通函数变成泛函数。\n",
    "\n",
    "singledispatch创建一个自定义的htmlize.register装饰器，把多个函数绑在一起组成一个泛函数。\n",
    "\n",
    "这样，针对不同的输入类型，会调用不同的格式。\n",
    "\n",
    "\"\"\"\n",
    "\n",
    "from functools import singledispatch\n",
    "from collections import abc\n",
    "import numbers\n",
    "import html\n",
    " \n",
    "@singledispatch              #@singledispatch标记出来object类型的基函数\n",
    "def htmlize(obj):\n",
    "    content = html.escape(repr(obj))\n",
    "    return '<pre>{}</pre>'.format(content)\n",
    " \n",
    "@htmlize.register(str)       #各个专门函数使用@htmlize.register装饰\n",
    "def _(text):                 #专门函数的名称无关紧要；_是个不错的选择\n",
    "    content = html.escape(text).replace('\\n', '<br>\\n')\n",
    "    return '<p>{0}</p>'.format(content)\n",
    " \n",
    "@htmlize.register(numbers.Integral)  #为每个需要特殊处理的类型注册一个函数，numbers.Integral是int的虚拟超类\n",
    "def _(n):\n",
    "    return '<pre>{0} (0x{0:x})</pre>'.format(n)\n",
    " \n",
    "@htmlize.register(tuple)     #可以叠放多个register装饰器，让同一个函数支持不同类型\n",
    "@htmlize.register(abc.MutableSequence)\n",
    "def _(seq):\n",
    "    inner = '</li>\\n<li>'.join(htmlize(item) for item in seq)\n",
    "    return '<ul>\\n<li>' + inner + '</li>\\n</ul>'\n",
    "\n",
    "print(htmlize({1,2,3}))\n",
    "print(htmlize(abs))\n",
    "print(htmlize(42))\n",
    "print(htmlize(['alpha',66,{3,2,1}]))"
   ]
  },
  {
   "cell_type": "code",
   "execution_count": null,
   "metadata": {
    "collapsed": true
   },
   "outputs": [],
   "source": []
  }
 ],
 "metadata": {
  "anaconda-cloud": {},
  "kernelspec": {
   "display_name": "Python [conda root]",
   "language": "python",
   "name": "conda-root-py"
  },
  "language_info": {
   "codemirror_mode": {
    "name": "ipython",
    "version": 3
   },
   "file_extension": ".py",
   "mimetype": "text/x-python",
   "name": "python",
   "nbconvert_exporter": "python",
   "pygments_lexer": "ipython3",
   "version": "3.5.2"
  }
 },
 "nbformat": 4,
 "nbformat_minor": 1
}
