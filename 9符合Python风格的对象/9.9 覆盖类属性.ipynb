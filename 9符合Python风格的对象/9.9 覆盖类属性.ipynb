{
 "cells": [
  {
   "cell_type": "code",
   "execution_count": 2,
   "metadata": {
    "collapsed": false
   },
   "outputs": [
    {
     "name": "stdout",
     "output_type": "stream",
     "text": [
      "d\n"
     ]
    }
   ],
   "source": [
    "\"\"\"\n",
    "Python中有个很独特的特性：类属性可用于为实例属性提供默认值。\n",
    "\n",
    "如下面的例子中，typecode是类属性，实例本身没有类属性在get_typecode中调用self.typecode时，\n",
    "实际上是调用的Vector2d.typecode\n",
    "\n",
    "\"\"\"\n",
    "class Vector2d:\n",
    "    typecode = 'd'\n",
    "    def __init__(self,x,y):\n",
    "        self.x = float(x)\n",
    "        self.y = float(y)\n",
    "        \n",
    "    def get_typecode(self):\n",
    "        return self.typecode\n",
    "    \n",
    "v1 = Vector2d(3,4)\n",
    "print(v1.get_typecode())"
   ]
  },
  {
   "cell_type": "code",
   "execution_count": 4,
   "metadata": {
    "collapsed": false
   },
   "outputs": [
    {
     "name": "stdout",
     "output_type": "stream",
     "text": [
      "f\n",
      "d\n"
     ]
    }
   ],
   "source": [
    "\"\"\"\n",
    "如果我们给实例添加一个typecode实例属性，那么self.typecode调用的便是实例属性,类属性不受影响\n",
    "\"\"\"\n",
    "v1.typecode = 'f'\n",
    "print(v1.get_typecode())\n",
    "print(Vector2d.typecode)"
   ]
  },
  {
   "cell_type": "code",
   "execution_count": 6,
   "metadata": {
    "collapsed": false
   },
   "outputs": [
    {
     "name": "stdout",
     "output_type": "stream",
     "text": [
      "f\n"
     ]
    }
   ],
   "source": [
    "\"\"\"\n",
    "然而，有种修改方式更符合Python风格，而且效果持久，也更有针对性，类属性是公开的，\n",
    "会被子类继承，于是经常会创建一个子类，只用于定制类的数据属性。\n",
    "\"\"\"\n",
    "class Vector2d_v2(Vector2d):\n",
    "    typecode = 'f'\n",
    "    \n",
    "sv = Vector2d_v2(3,4)\n",
    "print(sv.get_typecode())"
   ]
  },
  {
   "cell_type": "code",
   "execution_count": null,
   "metadata": {
    "collapsed": true
   },
   "outputs": [],
   "source": []
  }
 ],
 "metadata": {
  "kernelspec": {
   "display_name": "Python [conda root]",
   "language": "python",
   "name": "conda-root-py"
  },
  "language_info": {
   "codemirror_mode": {
    "name": "ipython",
    "version": 3
   },
   "file_extension": ".py",
   "mimetype": "text/x-python",
   "name": "python",
   "nbconvert_exporter": "python",
   "pygments_lexer": "ipython3",
   "version": "3.5.2"
  }
 },
 "nbformat": 4,
 "nbformat_minor": 1
}
