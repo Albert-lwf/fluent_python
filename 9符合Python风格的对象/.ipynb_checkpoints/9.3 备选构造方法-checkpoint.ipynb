{
 "cells": [
  {
   "cell_type": "code",
   "execution_count": 1,
   "metadata": {
    "collapsed": false
   },
   "outputs": [
    {
     "name": "stdout",
     "output_type": "stream",
     "text": [
      "b'd\\x00\\x00\\x00\\x00\\x00\\x00\\x08@\\x00\\x00\\x00\\x00\\x00\\x00\\x10@'\n",
      "(3.0, 4.0)\n"
     ]
    }
   ],
   "source": [
    "\"\"\"\n",
    "我们可以把一个类的实例转换为字节序列，同理，也可以从字节序列转换成类的实例。\n",
    "我们使用array.array中的frombytes方法。\n",
    "\"\"\"\n",
    "from array import array\n",
    "import math\n",
    "\n",
    "class Vector2d:\n",
    "    typecode = 'd'\n",
    "    def __init__(self,x,y):\n",
    "        self.x = float(x)\n",
    "        self.y = float(y)\n",
    "    \n",
    "    \"\"\"定义成可迭代对象，因此可以进行拆包\"\"\"\n",
    "    def __iter__(self):\n",
    "        return (i for i in (self.x,self.y))\n",
    "    \n",
    "    \"\"\"*self会把x和y分量提供给format函数\"\"\"\n",
    "    def __repr__(self):\n",
    "        class_name = type(self).__name__\n",
    "        return '{}({!r},{!r})'.format(class_name,*self)\n",
    "    \n",
    "    \"\"\"tuple(self),返回的是(x, y),因为已经变为了一个可迭代对象\"\"\"\n",
    "    def __str__(self):\n",
    "        return str(tuple(self))\n",
    "    \n",
    "    def __bytes__(self):\n",
    "        return (bytes([ord(self.typecode)]) + bytes(array(self.typecode,self)))\n",
    "    \n",
    "    def __eq__(self,other):\n",
    "        return tuple(self) == tuple(other)\n",
    "    \n",
    "    def __abs__(self):\n",
    "        return math.hypot(self.x,self.y)\n",
    "    \n",
    "    def __bool__(self):\n",
    "        return bool(abs(self))\n",
    "\n",
    "    @classmethod\n",
    "    def frombytes(cls,octets):\n",
    "        typecode = chr(octets[0])\n",
    "        memv = memoryview(octets[1:]).cast(typecode)\n",
    "        return cls(*memv)\n",
    "\n",
    "v1 = Vector2d(3,4)\n",
    "octets = bytes(v1)\n",
    "print(octets)\n",
    "v2 = Vector2d.frombytes(octets)\n",
    "print(v2)"
   ]
  },
  {
   "cell_type": "code",
   "execution_count": null,
   "metadata": {
    "collapsed": true
   },
   "outputs": [],
   "source": []
  }
 ],
 "metadata": {
  "kernelspec": {
   "display_name": "Python [conda root]",
   "language": "python",
   "name": "conda-root-py"
  },
  "language_info": {
   "codemirror_mode": {
    "name": "ipython",
    "version": 3
   },
   "file_extension": ".py",
   "mimetype": "text/x-python",
   "name": "python",
   "nbconvert_exporter": "python",
   "pygments_lexer": "ipython3",
   "version": "3.5.2"
  }
 },
 "nbformat": 4,
 "nbformat_minor": 1
}
