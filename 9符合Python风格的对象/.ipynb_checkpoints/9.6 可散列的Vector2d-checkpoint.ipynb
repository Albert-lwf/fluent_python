{
 "cells": [
  {
   "cell_type": "code",
   "execution_count": 1,
   "metadata": {
    "collapsed": false
   },
   "outputs": [
    {
     "ename": "TypeError",
     "evalue": "unhashable type: 'Vector2d'",
     "output_type": "error",
     "traceback": [
      "\u001b[0;31m---------------------------------------------------------------------------\u001b[0m",
      "\u001b[0;31mTypeError\u001b[0m                                 Traceback (most recent call last)",
      "\u001b[0;32m<ipython-input-1-1c7ed9e96895>\u001b[0m in \u001b[0;36m<module>\u001b[0;34m()\u001b[0m\n\u001b[1;32m     41\u001b[0m \u001b[0;34m\u001b[0m\u001b[0m\n\u001b[1;32m     42\u001b[0m \u001b[0mv1\u001b[0m \u001b[0;34m=\u001b[0m \u001b[0mVector2d\u001b[0m\u001b[0;34m(\u001b[0m\u001b[0;36m3\u001b[0m\u001b[0;34m,\u001b[0m\u001b[0;36m4\u001b[0m\u001b[0;34m)\u001b[0m\u001b[0;34m\u001b[0m\u001b[0m\n\u001b[0;32m---> 43\u001b[0;31m \u001b[0mprint\u001b[0m\u001b[0;34m(\u001b[0m\u001b[0mhash\u001b[0m\u001b[0;34m(\u001b[0m\u001b[0mv1\u001b[0m\u001b[0;34m)\u001b[0m\u001b[0;34m)\u001b[0m\u001b[0;34m\u001b[0m\u001b[0m\n\u001b[0m",
      "\u001b[0;31mTypeError\u001b[0m: unhashable type: 'Vector2d'"
     ]
    }
   ],
   "source": [
    "\"\"\"\n",
    "目前我们实现的Vector2d是不可散列的，不能放入set集合中\n",
    "\"\"\"\n",
    "from array import array\n",
    "import math\n",
    "\n",
    "class Vector2d:\n",
    "    typecode = 'd'\n",
    "    def __init__(self,x,y):\n",
    "        self.x = float(x)\n",
    "        self.y = float(y)\n",
    "    \n",
    "    \"\"\"定义成可迭代对象，因此可以进行拆包\"\"\"\n",
    "    def __iter__(self):\n",
    "        return (i for i in (self.x,self.y))\n",
    "    \n",
    "    \"\"\"*self会把x和y分量提供给format函数\"\"\"\n",
    "    def __repr__(self):\n",
    "        class_name = type(self).__name__\n",
    "        return '{}({!r},{!r})'.format(class_name,*self)\n",
    "    \n",
    "    \"\"\"tuple(self),返回的是(x, y),因为已经变为了一个可迭代对象\"\"\"\n",
    "    def __str__(self):\n",
    "        return str(tuple(self))\n",
    "    \n",
    "    def __bytes__(self):\n",
    "        return (bytes([ord(self.typecode)]) + bytes(array(self.typecode,self)))\n",
    "    \n",
    "    def __eq__(self,other):\n",
    "        return tuple(self) == tuple(other)\n",
    "    \n",
    "    def __abs__(self):\n",
    "        return math.hypot(self.x,self.y)\n",
    "    \n",
    "    def __bool__(self):\n",
    "        return bool(abs(self))\n",
    "    \n",
    "    def __format__(self,fmt_spec=''):\n",
    "        components = (format(c,fmt_spec) for c in self)\n",
    "        return '({},{})'.format(*components)\n",
    "    \n",
    "v1 = Vector2d(3,4)\n",
    "print(hash(v1))"
   ]
  },
  {
   "cell_type": "code",
   "execution_count": 3,
   "metadata": {
    "collapsed": false
   },
   "outputs": [],
   "source": [
    "\"\"\"\n",
    "要使Vector2d类变为可散列的，必须实现__hash__和__eq__方法。此外，还要让向量不可变。即向量的x 和 y不能被从重新赋值。\n",
    "\"\"\"\n",
    "from array import array\n",
    "import math\n",
    "\n",
    "class Vector2d:\n",
    "    typecode = 'd'\n",
    "    def __init__(self,x,y):\n",
    "        self.__x = float(x)\n",
    "        self.__y = float(y)\n",
    "        \n",
    "    @property\n",
    "    def x(self):\n",
    "        return self.__x\n",
    "    \n",
    "    @property\n",
    "    def y(self):\n",
    "        return self.__y\n",
    "    \n",
    "    def __hash__(self):\n",
    "        return hash(self.x) ^ hash(self.y)\n",
    "    \n",
    "    \"\"\"定义成可迭代对象，因此可以进行拆包\"\"\"\n",
    "    def __iter__(self):\n",
    "        return (i for i in (self.x,self.y))\n",
    "    \n",
    "    \"\"\"*self会把x和y分量提供给format函数\"\"\"\n",
    "    def __repr__(self):\n",
    "        class_name = type(self).__name__\n",
    "        return '{}({!r},{!r})'.format(class_name,*self)\n",
    "    \n",
    "    \"\"\"tuple(self),返回的是(x, y),因为已经变为了一个可迭代对象\"\"\"\n",
    "    def __str__(self):\n",
    "        return str(tuple(self))\n",
    "    \n",
    "    def __bytes__(self):\n",
    "        return (bytes([ord(self.typecode)]) + bytes(array(self.typecode,self)))\n",
    "    \n",
    "    def __eq__(self,other):\n",
    "        return tuple(self) == tuple(other)\n",
    "    \n",
    "    def __abs__(self):\n",
    "        return math.hypot(self.x,self.y)\n",
    "    \n",
    "    def __bool__(self):\n",
    "        return bool(abs(self))\n",
    "    \n",
    "    def __format__(self,fmt_spec=''):\n",
    "        components = (format(c,fmt_spec) for c in self)\n",
    "        return '({},{})'.format(*components)"
   ]
  },
  {
   "cell_type": "code",
   "execution_count": 5,
   "metadata": {
    "collapsed": false
   },
   "outputs": [
    {
     "name": "stdout",
     "output_type": "stream",
     "text": [
      "7 461168601842739201\n"
     ]
    },
    {
     "data": {
      "text/plain": [
       "{Vector2d(2.2,3.0), Vector2d(3.0,4.0)}"
      ]
     },
     "execution_count": 5,
     "metadata": {},
     "output_type": "execute_result"
    }
   ],
   "source": [
    "\"\"\"\n",
    "在上面的代码中，使用__使得变量x和y标记为私有属性，同时，使用@property装饰器提供同名的x属性读取方法。这样，x和y的值将不可被修改\n",
    "从而，我们实现了__hash__方法，使得类的实例可被散列\n",
    "\"\"\"\n",
    "v1 = Vector2d(3,4)\n",
    "v2 = Vector2d(2.2,3)\n",
    "print(hash(v1),hash(v2))\n",
    "set([v1,v2])"
   ]
  },
  {
   "cell_type": "code",
   "execution_count": null,
   "metadata": {
    "collapsed": true
   },
   "outputs": [],
   "source": []
  }
 ],
 "metadata": {
  "kernelspec": {
   "display_name": "Python [conda root]",
   "language": "python",
   "name": "conda-root-py"
  },
  "language_info": {
   "codemirror_mode": {
    "name": "ipython",
    "version": 3
   },
   "file_extension": ".py",
   "mimetype": "text/x-python",
   "name": "python",
   "nbconvert_exporter": "python",
   "pygments_lexer": "ipython3",
   "version": "3.5.2"
  }
 },
 "nbformat": 4,
 "nbformat_minor": 1
}
