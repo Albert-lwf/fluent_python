{
 "cells": [
  {
   "cell_type": "code",
   "execution_count": 1,
   "metadata": {
    "collapsed": false
   },
   "outputs": [
    {
     "name": "stdout",
     "output_type": "stream",
     "text": [
      "0.4115226337448559\n",
      "0.4115\n",
      "1 BRL = 0.41 USD\n"
     ]
    }
   ],
   "source": [
    "\"\"\"\n",
    "内置的format()和 str.format()方法把各个类型的格式化方法委托给相应的__format__(format_spec)方法,format_spec是格式说明符。\n",
    "格式说明符是：\n",
    "1、format(my_obj,format_spec)的第二个参数\n",
    "2、str.format()方法的格式化字符串，{}里代替字段中冒号后面的部分\n",
    "\"\"\"\n",
    "\n",
    "brl = 1/2.43\n",
    "print(brl)\n",
    "print(format(brl,'0.4f'))\n",
    "\"\"\"\n",
    "这里标注{rate:0.2f}指出了一个重要的知识点，它包含两部分，冒号左边rate是字段名，冒号后面0.2f是格式说明符\n",
    "\"\"\"\n",
    "print('1 BRL = {rate:0.2f} USD'.format(rate=brl))"
   ]
  },
  {
   "cell_type": "code",
   "execution_count": 2,
   "metadata": {
    "collapsed": false
   },
   "outputs": [
    {
     "name": "stdout",
     "output_type": "stream",
     "text": [
      "101010\n",
      "66.7%\n"
     ]
    }
   ],
   "source": [
    "\"\"\"\n",
    "格式说明符使用的表示法叫做格式规范微语言。\n",
    "格式规范微语言为一些内置类型提供了专用的表示代码。比如，b和x分别表示二进制和十六进制的int类型，f表示小数形式的float类型，%表示百分数形式\n",
    "\"\"\"\n",
    "print(format(42,'b'))\n",
    "print(format(2/3,'0.1%'))"
   ]
  },
  {
   "cell_type": "code",
   "execution_count": 3,
   "metadata": {
    "collapsed": false
   },
   "outputs": [
    {
     "name": "stdout",
     "output_type": "stream",
     "text": [
      "(3.0, 4.0)\n"
     ]
    }
   ],
   "source": [
    "\"\"\"\n",
    "如果类没有定义__format__方法，从object继承的方法会返回str(my_object)。\n",
    "下面的类Vector2d中定义了__str__方法，因此可以这样做：\n",
    "\"\"\"\n",
    "from array import array\n",
    "import math\n",
    "\n",
    "class Vector2d:\n",
    "    typecode = 'd'\n",
    "    def __init__(self,x,y):\n",
    "        self.x = float(x)\n",
    "        self.y = float(y)\n",
    "    \n",
    "    \"\"\"定义成可迭代对象，因此可以进行拆包\"\"\"\n",
    "    def __iter__(self):\n",
    "        return (i for i in (self.x,self.y))\n",
    "    \n",
    "    \"\"\"*self会把x和y分量提供给format函数\"\"\"\n",
    "    def __repr__(self):\n",
    "        class_name = type(self).__name__\n",
    "        return '{}({!r},{!r})'.format(class_name,*self)\n",
    "    \n",
    "    \"\"\"tuple(self),返回的是(x, y),因为已经变为了一个可迭代对象\"\"\"\n",
    "    def __str__(self):\n",
    "        return str(tuple(self))\n",
    "    \n",
    "    def __bytes__(self):\n",
    "        return (bytes([ord(self.typecode)]) + bytes(array(self.typecode,self)))\n",
    "    \n",
    "    def __eq__(self,other):\n",
    "        return tuple(self) == tuple(other)\n",
    "    \n",
    "    def __abs__(self):\n",
    "        return math.hypot(self.x,self.y)\n",
    "    \n",
    "    def __bool__(self):\n",
    "        return bool(abs(self))\n",
    "        \n",
    "v1 = Vector2d(3,4)\n",
    "print(format(v1))"
   ]
  },
  {
   "cell_type": "code",
   "execution_count": 4,
   "metadata": {
    "collapsed": false
   },
   "outputs": [
    {
     "ename": "TypeError",
     "evalue": "non-empty format string passed to object.__format__",
     "output_type": "error",
     "traceback": [
      "\u001b[0;31m---------------------------------------------------------------------------\u001b[0m",
      "\u001b[0;31mTypeError\u001b[0m                                 Traceback (most recent call last)",
      "\u001b[0;32m<ipython-input-4-2d21f598f28d>\u001b[0m in \u001b[0;36m<module>\u001b[0;34m()\u001b[0m\n\u001b[1;32m      1\u001b[0m \u001b[0;31m# 但是传入格式说明符，会报错\u001b[0m\u001b[0;34m\u001b[0m\u001b[0;34m\u001b[0m\u001b[0m\n\u001b[0;32m----> 2\u001b[0;31m \u001b[0mprint\u001b[0m\u001b[0;34m(\u001b[0m\u001b[0mformat\u001b[0m\u001b[0;34m(\u001b[0m\u001b[0mv1\u001b[0m\u001b[0;34m,\u001b[0m\u001b[0;34m'.3f'\u001b[0m\u001b[0;34m)\u001b[0m\u001b[0;34m)\u001b[0m\u001b[0;34m\u001b[0m\u001b[0m\n\u001b[0m",
      "\u001b[0;31mTypeError\u001b[0m: non-empty format string passed to object.__format__"
     ]
    }
   ],
   "source": [
    "# 但是传入格式说明符，会报错\n",
    "print(format(v1,'.3f'))"
   ]
  },
  {
   "cell_type": "code",
   "execution_count": 8,
   "metadata": {
    "collapsed": false
   },
   "outputs": [
    {
     "name": "stdout",
     "output_type": "stream",
     "text": [
      "(3.000,4.000)\n"
     ]
    }
   ],
   "source": [
    "\"\"\"\n",
    "下面，我们给类里面添加__format__方法\n",
    "\"\"\"\n",
    "from array import array\n",
    "import math\n",
    "\n",
    "class Vector2d:\n",
    "    typecode = 'd'\n",
    "    def __init__(self,x,y):\n",
    "        self.x = float(x)\n",
    "        self.y = float(y)\n",
    "    \n",
    "    \"\"\"定义成可迭代对象，因此可以进行拆包\"\"\"\n",
    "    def __iter__(self):\n",
    "        return (i for i in (self.x,self.y))\n",
    "    \n",
    "    \"\"\"*self会把x和y分量提供给format函数\"\"\"\n",
    "    def __repr__(self):\n",
    "        class_name = type(self).__name__\n",
    "        return '{}({!r},{!r})'.format(class_name,*self)\n",
    "    \n",
    "    \"\"\"tuple(self),返回的是(x, y),因为已经变为了一个可迭代对象\"\"\"\n",
    "    def __str__(self):\n",
    "        return str(tuple(self))\n",
    "    \n",
    "    def __bytes__(self):\n",
    "        return (bytes([ord(self.typecode)]) + bytes(array(self.typecode,self)))\n",
    "    \n",
    "    def __eq__(self,other):\n",
    "        return tuple(self) == tuple(other)\n",
    "    \n",
    "    def __abs__(self):\n",
    "        return math.hypot(self.x,self.y)\n",
    "    \n",
    "    def __bool__(self):\n",
    "        return bool(abs(self))\n",
    "    \n",
    "    def __format__(self,fmt_spec=''):\n",
    "        components = (format(c,fmt_spec) for c in self)\n",
    "        return '({},{})'.format(*components)\n",
    "\n",
    "v1 = Vector2d(3,4)\n",
    "print(format(v1,'.3f'))"
   ]
  },
  {
   "cell_type": "code",
   "execution_count": null,
   "metadata": {
    "collapsed": true
   },
   "outputs": [],
   "source": []
  }
 ],
 "metadata": {
  "anaconda-cloud": {},
  "kernelspec": {
   "display_name": "Python [conda root]",
   "language": "python",
   "name": "conda-root-py"
  },
  "language_info": {
   "codemirror_mode": {
    "name": "ipython",
    "version": 3
   },
   "file_extension": ".py",
   "mimetype": "text/x-python",
   "name": "python",
   "nbconvert_exporter": "python",
   "pygments_lexer": "ipython3",
   "version": "3.5.2"
  }
 },
 "nbformat": 4,
 "nbformat_minor": 1
}
