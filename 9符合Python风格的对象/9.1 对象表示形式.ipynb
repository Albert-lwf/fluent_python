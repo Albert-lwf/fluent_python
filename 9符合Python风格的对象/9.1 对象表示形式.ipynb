{
 "cells": [
  {
   "cell_type": "code",
   "execution_count": null,
   "metadata": {
    "collapsed": true
   },
   "outputs": [],
   "source": [
    "\"\"\"\n",
    "Python提供了两种获取对象字符串表示形式的标准方式\n",
    "1、repr() 以便于开发者理解的方式返回对象的字符串表示形式\n",
    "2、str() 以便于用户理解的方式返回对象的字符串表示形式\n",
    "所以对象中要实现__repr__、__str__方法\n",
    "除此之外，我们可能还会用到两个特殊方法:__bytes__和__format__，__bytes__函数调用它获取对象的字节序列表示形式\n",
    "而__format__会被内置的format()函数和str.format()方法调用。\n",
    "\"\"\""
   ]
  }
 ],
 "metadata": {
  "kernelspec": {
   "display_name": "Python [conda root]",
   "language": "python",
   "name": "conda-root-py"
  },
  "language_info": {
   "codemirror_mode": {
    "name": "ipython",
    "version": 3
   },
   "file_extension": ".py",
   "mimetype": "text/x-python",
   "name": "python",
   "nbconvert_exporter": "python",
   "pygments_lexer": "ipython3",
   "version": "3.5.2"
  }
 },
 "nbformat": 4,
 "nbformat_minor": 1
}
