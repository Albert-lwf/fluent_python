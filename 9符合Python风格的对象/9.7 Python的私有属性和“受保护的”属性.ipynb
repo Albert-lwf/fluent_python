{
 "cells": [
  {
   "cell_type": "code",
   "execution_count": 1,
   "metadata": {
    "collapsed": false
   },
   "outputs": [
    {
     "name": "stdout",
     "output_type": "stream",
     "text": [
      "{'_Vector2d__y': 4, '_Vector2d__x': 3}\n"
     ]
    }
   ],
   "source": [
    "\"\"\"\n",
    "在类的属性前面加上两个下划线，会将属性变为私有属性。同时，会把属性名存入实例的__dict__属性中，而且会在前面加上一个下划线和类名。\n",
    "\"\"\"\n",
    "class Vector2d:\n",
    "    def __init__(self,x,y):\n",
    "        self.__x = x\n",
    "        self.__y = y\n",
    "        \n",
    "v1 = Vector2d(3,4)\n",
    "print(v1.__dict__)"
   ]
  },
  {
   "cell_type": "code",
   "execution_count": 2,
   "metadata": {
    "collapsed": false
   },
   "outputs": [
    {
     "name": "stdout",
     "output_type": "stream",
     "text": [
      "{'_Vector2d__y': 4, '_Vector2d__x': 7}\n"
     ]
    }
   ],
   "source": [
    "\"\"\"\n",
    "上面的机制告诉我们，并非不能修改属性值，比如：\n",
    "\"\"\"\n",
    "v1._Vector2d__x = 7\n",
    "print(v1.__dict__)"
   ]
  },
  {
   "cell_type": "code",
   "execution_count": 3,
   "metadata": {
    "collapsed": false
   },
   "outputs": [
    {
     "ename": "SyntaxError",
     "evalue": "EOF while scanning triple-quoted string literal (<ipython-input-3-bf6989bd1fc2>, line 1)",
     "output_type": "error",
     "traceback": [
      "\u001b[0;36m  File \u001b[0;32m\"<ipython-input-3-bf6989bd1fc2>\"\u001b[0;36m, line \u001b[0;32m1\u001b[0m\n\u001b[0;31m    \"\"\"\"\"\u001b[0m\n\u001b[0m         ^\u001b[0m\n\u001b[0;31mSyntaxError\u001b[0m\u001b[0;31m:\u001b[0m EOF while scanning triple-quoted string literal\n"
     ]
    }
   ],
   "source": [
    "\"\"\"\n",
    "有的Python程序员约定使用一个下划线前缀编写\"受保护\"的属性。这种属性不会在类外部进行访问。\n",
    "这只是一种约定，Python不会对此做特殊处理。\n",
    "\"\"\""
   ]
  },
  {
   "cell_type": "code",
   "execution_count": null,
   "metadata": {
    "collapsed": true
   },
   "outputs": [],
   "source": []
  }
 ],
 "metadata": {
  "kernelspec": {
   "display_name": "Python [conda root]",
   "language": "python",
   "name": "conda-root-py"
  },
  "language_info": {
   "codemirror_mode": {
    "name": "ipython",
    "version": 3
   },
   "file_extension": ".py",
   "mimetype": "text/x-python",
   "name": "python",
   "nbconvert_exporter": "python",
   "pygments_lexer": "ipython3",
   "version": "3.5.2"
  }
 },
 "nbformat": 4,
 "nbformat_minor": 1
}
