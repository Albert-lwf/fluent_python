{
 "cells": [
  {
   "cell_type": "code",
   "execution_count": 1,
   "metadata": {
    "collapsed": false
   },
   "outputs": [
    {
     "name": "stdout",
     "output_type": "stream",
     "text": [
      "[3, [55, 44], (7, 8, 9)]\n",
      "True\n",
      "False\n",
      "True\n",
      "False\n"
     ]
    }
   ],
   "source": [
    "\"\"\"\n",
    "列表中存放的是元素的引用，即地址\n",
    "复制列表，使用构造方法或者[:],默认是作浅复制，即复制了最外层容器，副本中的元素是源容器中元素的引用。\n",
    "\"\"\"\n",
    "l1 = [3,[55,44],(7,8,9)]\n",
    "l2 = list(l1)\n",
    "l3 = l1[:]\n",
    "print(l2)\n",
    "print(l2 == l1)\n",
    "print(l2 is l1)\n",
    "print(l3 == l1)\n",
    "print(l3 is l1)"
   ]
  },
  {
   "cell_type": "code",
   "execution_count": 4,
   "metadata": {
    "collapsed": false
   },
   "outputs": [
    {
     "name": "stdout",
     "output_type": "stream",
     "text": [
      "l1 [3, [66, 44], (7, 8, 9), 100]\n",
      "l2 [3, [66, 44], (7, 8, 9)]\n",
      "l1 [3, [66, 44, 33, 22], (7, 8, 9), 100]\n",
      "l2 [3, [66, 44, 33, 22], (7, 8, 9, 10, 11)]\n"
     ]
    }
   ],
   "source": [
    "\"\"\" \n",
    "如果所有的元素都是不可变的，那么浅复制没有问题，还能节省内存，但是如果有可变的元素，那么就会导致意想不到的问题\n",
    "\"\"\"\n",
    "l1 = [3,[66,55,44],(7,8,9)]\n",
    "l2 = list(l1)\n",
    "l1.append(100) # 追加100，这对l2没有影响\n",
    "l1[1].remove(55) # 修改l1[1]的值，这对l2有影响，因为二者绑定的是同一个列表\n",
    "print('l1',l1)\n",
    "print('l2',l2)\n",
    "l1[1] += [33,22] # += 就地修改列表，所以对二者都有影响\n",
    "l2[2] += (10,11) # 元组的+=是创建一个新元组，所以对l1没有影响\n",
    "print('l1',l1)\n",
    "print('l2',l2)\n"
   ]
  },
  {
   "cell_type": "code",
   "execution_count": 5,
   "metadata": {
    "collapsed": true
   },
   "outputs": [],
   "source": [
    "\"\"\"\n",
    "浅复制没什么问题，但有时候也许我们需要做深复制，即副本不共享内部对象的引用\n",
    "copy模块提供的deepcopy和copy函数能为任意对象做深复制和浅复制\n",
    "\"\"\"\n",
    "class Bus:\n",
    "    def __init__(self,passengers = None):\n",
    "        if passengers is None:\n",
    "            self.passengers = []\n",
    "        else:\n",
    "            self.passengers = list(passengers)\n",
    "        \n",
    "    def pick(self,name):\n",
    "        self.passengers.append(name)\n",
    "    \n",
    "    def drop(self,name):\n",
    "        self.passengers.remove(name)\n",
    "        \n"
   ]
  },
  {
   "cell_type": "code",
   "execution_count": 6,
   "metadata": {
    "collapsed": false
   },
   "outputs": [
    {
     "name": "stdout",
     "output_type": "stream",
     "text": [
      "4409966096 4409966040 4409966152\n"
     ]
    }
   ],
   "source": [
    "import copy\n",
    "bus1 = Bus(['Alice','Bill','Claire','David'])\n",
    "bus2 = copy.copy(bus1)\n",
    "bus3 = copy.deepcopy(bus1)\n",
    "\n",
    "print(id(bus1),id(bus2),id(bus3))"
   ]
  },
  {
   "cell_type": "code",
   "execution_count": 7,
   "metadata": {
    "collapsed": false
   },
   "outputs": [
    {
     "name": "stdout",
     "output_type": "stream",
     "text": [
      "['Alice', 'Claire', 'David']\n",
      "4409966096 4409966040 4409966152\n",
      "['Alice', 'Bill', 'Claire', 'David']\n"
     ]
    }
   ],
   "source": [
    "bus1.drop('Bill')\n",
    "print(bus2.passengers)\n",
    "print(id(bus1),id(bus2),id(bus3))\n",
    "print(bus3.passengers)"
   ]
  },
  {
   "cell_type": "code",
   "execution_count": null,
   "metadata": {
    "collapsed": true
   },
   "outputs": [],
   "source": []
  }
 ],
 "metadata": {
  "kernelspec": {
   "display_name": "Python [conda root]",
   "language": "python",
   "name": "conda-root-py"
  },
  "language_info": {
   "codemirror_mode": {
    "name": "ipython",
    "version": 3
   },
   "file_extension": ".py",
   "mimetype": "text/x-python",
   "name": "python",
   "nbconvert_exporter": "python",
   "pygments_lexer": "ipython3",
   "version": "3.5.2"
  }
 },
 "nbformat": 4,
 "nbformat_minor": 1
}
