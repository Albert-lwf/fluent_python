{
 "cells": [
  {
   "cell_type": "code",
   "execution_count": 3,
   "metadata": {
    "collapsed": false
   },
   "outputs": [
    {
     "name": "stdout",
     "output_type": "stream",
     "text": [
      "True\n",
      "4407846280 4407846280\n",
      "{'balance': 950, 'name': 'Charles L.Dodgson', 'born': 1832}\n",
      "True\n",
      "True\n"
     ]
    }
   ],
   "source": [
    "\"\"\"\n",
    "我们先看下面的例子\n",
    "\"\"\"\n",
    "charles = {'name':'Charles L.Dodgson','born':1832}\n",
    "lewis = charles\n",
    "print(lewis is charles)\n",
    "print(id(lewis),id(charles))\n",
    "lewis['balance'] = 950\n",
    "print(charles)\n",
    "\n",
    "alex = {'balance': 950, 'name': 'Charles L.Dodgson', 'born': 1832}\n",
    "print(alex == charles)\n",
    "print(alex is not charles)"
   ]
  },
  {
   "cell_type": "code",
   "execution_count": 5,
   "metadata": {
    "collapsed": false
   },
   "outputs": [
    {
     "data": {
      "text/plain": [
       "'\\n上面的例子中，我们可以发现：\\n1、lewis是charles的别名，二者指向同一个对象\\n2、alex的内容和charles一样，所以==判断结果为True，但是它们绑定了不同的对象，所以is判断为false，\\n即==判断内容是否相同，is判断标识是否相同。标识可以理解为变量的地址\\n'"
      ]
     },
     "execution_count": 5,
     "metadata": {},
     "output_type": "execute_result"
    }
   ],
   "source": [
    "\"\"\"\n",
    "上面的例子中，我们可以发现：\n",
    "1、lewis是charles的别名，二者指向同一个对象\n",
    "2、alex的内容和charles一样，所以==判断结果为True，但是它们绑定了不同的对象，所以is判断为false，\n",
    "即==判断内容是否相同，is判断标识是否相同。标识可以理解为变量的地址\n",
    "\"\"\""
   ]
  },
  {
   "cell_type": "code",
   "execution_count": 7,
   "metadata": {
    "collapsed": false
   },
   "outputs": [
    {
     "data": {
      "text/plain": [
       "'\\nis运算符比==速度快\\n'"
      ]
     },
     "execution_count": 7,
     "metadata": {},
     "output_type": "execute_result"
    }
   ],
   "source": [
    "\"\"\"\n",
    "is运算符比==速度快\n",
    "\"\"\"\n"
   ]
  },
  {
   "cell_type": "code",
   "execution_count": 10,
   "metadata": {
    "collapsed": false
   },
   "outputs": [
    {
     "name": "stdout",
     "output_type": "stream",
     "text": [
      "4407885960\n"
     ]
    },
    {
     "ename": "TypeError",
     "evalue": "'tuple' object does not support item assignment",
     "output_type": "error",
     "traceback": [
      "\u001b[0;31m---------------------------------------------------------------------------\u001b[0m",
      "\u001b[0;31mTypeError\u001b[0m                                 Traceback (most recent call last)",
      "\u001b[0;32m<ipython-input-10-8ba6ed86299b>\u001b[0m in \u001b[0;36m<module>\u001b[0;34m()\u001b[0m\n\u001b[1;32m      4\u001b[0m \u001b[0mt1\u001b[0m \u001b[0;34m=\u001b[0m \u001b[0;34m(\u001b[0m\u001b[0;36m1\u001b[0m\u001b[0;34m,\u001b[0m\u001b[0;36m2\u001b[0m\u001b[0;34m,\u001b[0m\u001b[0;34m[\u001b[0m\u001b[0;36m1\u001b[0m\u001b[0;34m,\u001b[0m\u001b[0;36m2\u001b[0m\u001b[0;34m]\u001b[0m\u001b[0;34m)\u001b[0m\u001b[0;34m\u001b[0m\u001b[0m\n\u001b[1;32m      5\u001b[0m \u001b[0mprint\u001b[0m\u001b[0;34m(\u001b[0m\u001b[0mid\u001b[0m\u001b[0;34m(\u001b[0m\u001b[0mt1\u001b[0m\u001b[0;34m[\u001b[0m\u001b[0;36m2\u001b[0m\u001b[0;34m]\u001b[0m\u001b[0;34m)\u001b[0m\u001b[0;34m)\u001b[0m\u001b[0;34m\u001b[0m\u001b[0m\n\u001b[0;32m----> 6\u001b[0;31m \u001b[0mt1\u001b[0m\u001b[0;34m[\u001b[0m\u001b[0;36m2\u001b[0m\u001b[0;34m]\u001b[0m \u001b[0;34m+=\u001b[0m \u001b[0;34m[\u001b[0m\u001b[0;36m3\u001b[0m\u001b[0;34m,\u001b[0m\u001b[0;36m4\u001b[0m\u001b[0;34m]\u001b[0m\u001b[0;34m\u001b[0m\u001b[0m\n\u001b[0m",
      "\u001b[0;31mTypeError\u001b[0m: 'tuple' object does not support item assignment"
     ]
    }
   ],
   "source": [
    "\"\"\"\n",
    "我们之前介绍过一个例子，再回顾下\n",
    "\"\"\"\n",
    "t1 = (1,2,[1,2])\n",
    "print(id(t1[2]))\n",
    "t1[2] += [3,4]"
   ]
  },
  {
   "cell_type": "code",
   "execution_count": 11,
   "metadata": {
    "collapsed": false
   },
   "outputs": [
    {
     "name": "stdout",
     "output_type": "stream",
     "text": [
      "(1, 2, [1, 2, 3, 4])\n",
      "4407885960\n"
     ]
    }
   ],
   "source": [
    "print(t1)\n",
    "print(id(t1[2]))"
   ]
  },
  {
   "cell_type": "code",
   "execution_count": 12,
   "metadata": {
    "collapsed": false
   },
   "outputs": [
    {
     "name": "stdout",
     "output_type": "stream",
     "text": [
      "True\n",
      "False\n"
     ]
    }
   ],
   "source": [
    "\"\"\"\n",
    "上面的现象，我们可以解释为元组的相对不可变性。\n",
    "元组鱼多数Python集合(列表、字典、集等等)一样，保存的是对象的引用。如果引用的元素是可变的，即便元组本身不可变，\n",
    "元素依然可变，也就是说，元组的不可变性其实是指tuple数据结构中保存的引用不变，与引用的对象无关。\n",
    "这也是某些元组不可散列的原因\n",
    "\"\"\"\n",
    "t1 = (1,2,[30,40])\n",
    "t2 = (1,2,[30,40])\n",
    "print(t1==t2)\n",
    "t1[-1].append(99)\n",
    "print(t1==t2)"
   ]
  },
  {
   "cell_type": "code",
   "execution_count": null,
   "metadata": {
    "collapsed": true
   },
   "outputs": [],
   "source": []
  }
 ],
 "metadata": {
  "kernelspec": {
   "display_name": "Python [conda root]",
   "language": "python",
   "name": "conda-root-py"
  },
  "language_info": {
   "codemirror_mode": {
    "name": "ipython",
    "version": 3
   },
   "file_extension": ".py",
   "mimetype": "text/x-python",
   "name": "python",
   "nbconvert_exporter": "python",
   "pygments_lexer": "ipython3",
   "version": "3.5.2"
  }
 },
 "nbformat": 4,
 "nbformat_minor": 1
}
