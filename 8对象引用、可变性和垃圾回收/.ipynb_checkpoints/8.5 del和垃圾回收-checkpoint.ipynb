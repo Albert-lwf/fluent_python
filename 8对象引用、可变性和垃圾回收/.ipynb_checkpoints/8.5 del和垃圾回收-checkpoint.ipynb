{
 "cells": [
  {
   "cell_type": "code",
   "execution_count": 1,
   "metadata": {
    "collapsed": false
   },
   "outputs": [
    {
     "name": "stdout",
     "output_type": "stream",
     "text": [
      "True\n",
      "True\n",
      "Gone with the wind...\n",
      "False\n"
     ]
    }
   ],
   "source": [
    "\"\"\"\n",
    "del语句删除名称，而不是对象。\n",
    "del命令可能会导致对象被当作垃圾回收，但是仅当删除的变量保存的是对象的最后一个引用时，或者无法得到对象时。\n",
    "重新绑定也可能会导致对象的引用数量归零，导致对象被销毁\n",
    "\"\"\"\n",
    "import weakref\n",
    "s1 = {1,2,3}\n",
    "s2 = s1\n",
    "def bye():\n",
    "    print('Gone with the wind...')\n",
    "\n",
    "ender = weakref.finalize(s1,bye) # 在s1引用的对象上注册bye回调\n",
    "print(ender.alive)\n",
    "del s1\n",
    "print(ender.alive)\n",
    "s2 = 'spam' # s2重新绑定了别的引用，让{1,2,3}无法被获取，对象被销毁，调用bye回调\n",
    "print(ender.alive)"
   ]
  },
  {
   "cell_type": "code",
   "execution_count": null,
   "metadata": {
    "collapsed": true
   },
   "outputs": [],
   "source": []
  }
 ],
 "metadata": {
  "kernelspec": {
   "display_name": "Python [conda root]",
   "language": "python",
   "name": "conda-root-py"
  },
  "language_info": {
   "codemirror_mode": {
    "name": "ipython",
    "version": 3
   },
   "file_extension": ".py",
   "mimetype": "text/x-python",
   "name": "python",
   "nbconvert_exporter": "python",
   "pygments_lexer": "ipython3",
   "version": "3.5.2"
  }
 },
 "nbformat": 4,
 "nbformat_minor": 1
}
