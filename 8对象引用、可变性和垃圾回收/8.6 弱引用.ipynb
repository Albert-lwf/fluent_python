{
 "cells": [
  {
   "cell_type": "code",
   "execution_count": 1,
   "metadata": {
    "collapsed": false
   },
   "outputs": [
    {
     "name": "stdout",
     "output_type": "stream",
     "text": [
      "<weakref at 0x106bae728; to 'set' at 0x106829908>\n",
      "{0, 1}\n",
      "None\n",
      "True\n",
      "True\n"
     ]
    }
   ],
   "source": [
    "\"\"\"\n",
    "正是因为有引用，对象才会在内存中存在，当对象的引用数量归零时，垃圾回收程序会把对象销毁。\n",
    "但是，有时需要引用对象，而不让对象存在的时间超过所需时间，这经常用在缓存中。\n",
    "\n",
    "弱引用不会增加对象的引用数量。引用的目标对象称为所指对象。弱引用不会妨碍所指对象被当作垃圾回收。\n",
    "\"\"\"\n",
    "import weakref\n",
    "a_set = {0,1}\n",
    "wref = weakref.ref(a_set)\n",
    "print(wref)\n",
    "print(wref()) # 绑定的对象引用数量不为0，因此调用wref()可以打印{0,1}\n",
    "a_set = {2,3,4}\n",
    "print(wref()) # 绑定的对象引用数量为0\n",
    "print(wref() is None)\n",
    "print(wref() is None)"
   ]
  },
  {
   "cell_type": "code",
   "execution_count": 2,
   "metadata": {
    "collapsed": false
   },
   "outputs": [
    {
     "data": {
      "text/plain": [
       "'\\nweakref.ref类其实是底层接口，供高级用途使用，多数程序最好使用weakref集合和finalize。也就是说，应该使用WeakKeyDictionary、\\nWeakValueDictionary、WeakSet和finalize，不要自己动手创建并处理weakref.ref.\\n'"
      ]
     },
     "execution_count": 2,
     "metadata": {},
     "output_type": "execute_result"
    }
   ],
   "source": [
    "\"\"\"\n",
    "weakref.ref类其实是底层接口，供高级用途使用，多数程序最好使用weakref集合和finalize。也就是说，应该使用WeakKeyDictionary、\n",
    "WeakValueDictionary、WeakSet和finalize，不要自己动手创建并处理weakref.ref.\n",
    "\"\"\"\n"
   ]
  },
  {
   "cell_type": "code",
   "execution_count": 4,
   "metadata": {
    "collapsed": false
   },
   "outputs": [
    {
     "name": "stdout",
     "output_type": "stream",
     "text": [
      "['Brie', 'Parmesan', 'Red Leicester', 'Tilsit']\n",
      "['Parmesan']\n",
      "[]\n"
     ]
    }
   ],
   "source": [
    "\"\"\"\n",
    "WeakValueDictionary类实现的是一种可变映射，里面的值是对象的弱引用。\n",
    "被引用的对象在程序中的其他地方被当作垃圾回收后，对应的键会自动从WeakValueDictionary中删除。\n",
    "\"\"\"\n",
    "class Cheese:\n",
    "    def __init__(self,kind):\n",
    "        self.kind = kind\n",
    "    def __repr__(self):\n",
    "        return 'Cheese(%r)' % self.kind\n",
    "\n",
    "import weakref\n",
    "stock = weakref.WeakValueDictionary()\n",
    "catalog = [Cheese('Red Leicester'),Cheese('Tilsit'),Cheese('Brie'),Cheese('Parmesan')]\n",
    "\n",
    "for cheese in catalog:\n",
    "    stock[cheese.kind] = cheese\n",
    "\n",
    "print(sorted(stock.keys()))\n",
    "del catalog\n",
    "# 可以看到，这里并不是所有的键都删除了，留下了最后一个，这是为什么呢？\n",
    "# 这是因为临时变量引用了对象，这可能导致该变量存在的时间比预期的长。\n",
    "print(sorted(stock.keys())) \n",
    "del cheese\n",
    "print(sorted(stock.keys()))"
   ]
  },
  {
   "cell_type": "code",
   "execution_count": 5,
   "metadata": {
    "collapsed": true
   },
   "outputs": [],
   "source": [
    "\"\"\"\n",
    "不是每个Python对象都可以作为弱引用的目标。基本的list和dict都不可以，但是它们的子类可以作为目标\n",
    "set实例可以作为所致对象，int和tuple实例不能作为弱引用的目标，它们的子类也不行。\n",
    "\"\"\"\n",
    "class Mylist(list):\n",
    "    pass\n",
    "\n",
    "a_list = Mylist(range(10))\n",
    "wref_to_a_list = weakref.ref(a_list)"
   ]
  },
  {
   "cell_type": "code",
   "execution_count": null,
   "metadata": {
    "collapsed": true
   },
   "outputs": [],
   "source": []
  }
 ],
 "metadata": {
  "kernelspec": {
   "display_name": "Python [conda root]",
   "language": "python",
   "name": "conda-root-py"
  },
  "language_info": {
   "codemirror_mode": {
    "name": "ipython",
    "version": 3
   },
   "file_extension": ".py",
   "mimetype": "text/x-python",
   "name": "python",
   "nbconvert_exporter": "python",
   "pygments_lexer": "ipython3",
   "version": "3.5.2"
  }
 },
 "nbformat": 4,
 "nbformat_minor": 1
}
