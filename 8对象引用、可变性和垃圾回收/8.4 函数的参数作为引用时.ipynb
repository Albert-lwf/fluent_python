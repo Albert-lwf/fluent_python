{
 "cells": [
  {
   "cell_type": "code",
   "execution_count": 2,
   "metadata": {
    "collapsed": false
   },
   "outputs": [
    {
     "name": "stdout",
     "output_type": "stream",
     "text": [
      "3\n",
      "1 2\n",
      "[1, 2, 3, 4]\n",
      "[1, 2, 3, 4] [3, 4]\n",
      "(10, 20, 30, 40)\n",
      "(10, 20) (30, 40)\n"
     ]
    }
   ],
   "source": [
    "\"\"\"\n",
    "Python唯一支持的参数传递模式是共享传参，指函数的各个形式参数获得实参中各个引用的副本。也就是说，函数内部的形参是实参的别名。\n",
    "这种方案的结果是，函数可能修改作为参数传入的可变对象。但是无法修改那些对象的标识。\n",
    "\"\"\"\n",
    "def f(a,b):\n",
    "    a+= b\n",
    "    return a\n",
    "\n",
    "x = 1\n",
    "y = 2\n",
    "print(f(1,2))\n",
    "print(x,y)\n",
    "\n",
    "a = [1,2]\n",
    "b = [3,4]\n",
    "print(f(a,b))\n",
    "print(a,b)\n",
    "\n",
    "t = (10,20)\n",
    "u = (30,40)\n",
    "print(f(t,u))\n",
    "print(t,u)"
   ]
  },
  {
   "cell_type": "code",
   "execution_count": 11,
   "metadata": {
    "collapsed": false
   },
   "outputs": [],
   "source": [
    "\"\"\"\n",
    "我们应该尽量避免使用可变对象作为参数的默认值\n",
    "\"\"\"\n",
    "class HauntedBus():\n",
    "    def __init__(self,passengers=[]):\n",
    "        self.passengers = passengers\n",
    "    \n",
    "    def pick(self,name):\n",
    "        self.passengers.append(name)\n",
    "    \n",
    "    def drop(self,name):\n",
    "        self.passengers.remove(name)\n",
    "\n",
    "        "
   ]
  },
  {
   "cell_type": "code",
   "execution_count": 12,
   "metadata": {
    "collapsed": false
   },
   "outputs": [
    {
     "name": "stdout",
     "output_type": "stream",
     "text": [
      "['Alice', 'Bill']\n",
      "['Bill', 'Charlie']\n",
      "['Carrie']\n",
      "['Carrie']\n",
      "['Carrie', 'Dave']\n",
      "True\n"
     ]
    }
   ],
   "source": [
    "bus1 = HauntedBus(['Alice','Bill'])\n",
    "print(bus1.passengers)\n",
    "bus1.pick('Charlie')\n",
    "bus1.drop('Alice')\n",
    "print(bus1.passengers)\n",
    "\n",
    "bus2 = HauntedBus()\n",
    "bus2.pick('Carrie')\n",
    "print(bus2.passengers)\n",
    "\n",
    "bus3 = HauntedBus()\n",
    "print(bus3.passengers)\n",
    "bus3.pick('Dave')\n",
    "print(bus2.passengers)\n",
    "print(bus2.passengers is bus3.passengers)"
   ]
  },
  {
   "cell_type": "code",
   "execution_count": 14,
   "metadata": {
    "collapsed": false
   },
   "outputs": [
    {
     "name": "stdout",
     "output_type": "stream",
     "text": [
      "(['Carrie', 'Dave'],)\n",
      "True\n"
     ]
    }
   ],
   "source": [
    "\"\"\"\n",
    "可以看到，如果我们使用可变值作为参数的默认值，一次修改会对后续所有的对象产生影响。\n",
    "出现这个问题的根源是，默认值是在定义函数(通常是在加载模块时)计算，因此默认值变成了函数对象的属性，因此，如果默认值\n",
    "是可变对象，而且修改了他的值，那么后续的函数调用都会受到影响。\n",
    "\"\"\"\n",
    "print(HauntedBus.__init__.__defaults__)\n",
    "print(HauntedBus.__init__.__defaults__[0] is bus2.passengers)"
   ]
  },
  {
   "cell_type": "code",
   "execution_count": 16,
   "metadata": {
    "collapsed": false
   },
   "outputs": [
    {
     "name": "stdout",
     "output_type": "stream",
     "text": [
      "['Sue', 'Maya', 'Diana']\n"
     ]
    }
   ],
   "source": [
    "\"\"\"\n",
    "还是上面校车的例子，假设我们有一个篮球队，队员都在校车上，当有队员从校车上下车时，我们只修改乘客列表，而不修改队员列表，\n",
    "下面的实现方式是不行的：\n",
    "\"\"\"\n",
    "class TwillightBus:\n",
    "    def __init__(self,passengers = None):\n",
    "        if passengers is None:\n",
    "            self.passengers = []\n",
    "        else:\n",
    "            self.passengers = passengers\n",
    "    def pick(self,name):\n",
    "        self.passengers.append(name)\n",
    "    def drop(self,name):\n",
    "        self.passengers.remove(name)\n",
    "        \n",
    "basketball_team = ['Sue','Tina','Maya','Diana','Pat']\n",
    "bus = TwillightBus(basketball_team)\n",
    "bus.drop('Tina')\n",
    "bus.drop('Pat')\n",
    "print(basketball_team)"
   ]
  },
  {
   "cell_type": "code",
   "execution_count": 17,
   "metadata": {
    "collapsed": false
   },
   "outputs": [
    {
     "name": "stdout",
     "output_type": "stream",
     "text": [
      "['Sue', 'Tina', 'Maya', 'Diana', 'Pat']\n"
     ]
    }
   ],
   "source": [
    "\"\"\"\n",
    "在上面的例子中，下车的学生同时从篮球队中除名了，这是因为对象中的passengers属性是basketball_team的别名，二者指向同一个列表。\n",
    "所以正确的实现方法是对传入的列表进行浅复制\n",
    "\"\"\"\n",
    "class TwillightBus:\n",
    "    def __init__(self,passengers = None):\n",
    "        if passengers is None:\n",
    "            self.passengers = []\n",
    "        else:\n",
    "            self.passengers = list(passengers)\n",
    "    def pick(self,name):\n",
    "        self.passengers.append(name)\n",
    "    def drop(self,name):\n",
    "        self.passengers.remove(name)\n",
    "        \n",
    "basketball_team = ['Sue','Tina','Maya','Diana','Pat']\n",
    "bus = TwillightBus(basketball_team)\n",
    "bus.drop('Tina')\n",
    "bus.drop('Pat')\n",
    "print(basketball_team)"
   ]
  },
  {
   "cell_type": "code",
   "execution_count": null,
   "metadata": {
    "collapsed": true
   },
   "outputs": [],
   "source": []
  }
 ],
 "metadata": {
  "kernelspec": {
   "display_name": "Python [conda root]",
   "language": "python",
   "name": "conda-root-py"
  },
  "language_info": {
   "codemirror_mode": {
    "name": "ipython",
    "version": 3
   },
   "file_extension": ".py",
   "mimetype": "text/x-python",
   "name": "python",
   "nbconvert_exporter": "python",
   "pygments_lexer": "ipython3",
   "version": "3.5.2"
  }
 },
 "nbformat": 4,
 "nbformat_minor": 1
}
