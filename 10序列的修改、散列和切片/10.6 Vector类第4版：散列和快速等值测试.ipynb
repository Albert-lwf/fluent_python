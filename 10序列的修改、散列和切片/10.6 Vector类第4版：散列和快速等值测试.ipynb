{
 "cells": [
  {
   "cell_type": "code",
   "execution_count": 1,
   "metadata": {},
   "outputs": [
    {
     "data": {
      "text/plain": [
       "1"
      ]
     },
     "execution_count": 1,
     "metadata": {},
     "output_type": "execute_result"
    }
   ],
   "source": [
    "\"\"\"\n",
    "我们要实现__hash__方法，再加上现有的eq方法，可以把Vector实例变成可散列的对象\n",
    "我们使用所有元素的异或值来得到实例的散列值，使用reduce函数\n",
    "\n",
    "实现累计异或，有下面三种方式\n",
    "\"\"\"\n",
    "n = 0\n",
    "for i in range(0,6):\n",
    "    n ^= i\n",
    "\n",
    "import functools\n",
    "functools.reduce(lambda a,b:a^b,range(6))\n",
    "\n",
    "import operator\n",
    "functools.reduce(operator.xor,range(6))"
   ]
  },
  {
   "cell_type": "code",
   "execution_count": 2,
   "metadata": {
    "collapsed": true
   },
   "outputs": [],
   "source": [
    "\"\"\"\n",
    "这里我们使用第3种方式\n",
    "\"\"\"\n",
    "from array import array\n",
    "import reprlib\n",
    "import math\n",
    "import numbers\n",
    "\n",
    "class Vector:\n",
    "    typecode = 'd'\n",
    "    shortcut_names = 'xyzt'\n",
    "    \n",
    "    def __init__(self,components):\n",
    "        self._components = array(self.typecode,components)\n",
    "    \n",
    "    def __iter__(self):\n",
    "        return iter(self._components)\n",
    "    \n",
    "    def __repr__(self):\n",
    "        components = reprlib.repr(self.components) # 该函数返回的是array('d',[0.0,1.0,....])\n",
    "        components = components[components.find('['):-1]\n",
    "        return 'Vector({})'.format(components)\n",
    "    \n",
    "    def __str__(self):\n",
    "        return str(tuple(self))\n",
    "    \n",
    "    def __bytes__(self):\n",
    "        return (bytes([ord(self.typecode)]) + btyes(self._components))\n",
    "    \n",
    "#     def __eq__(self,other):\n",
    "#         return tuple(self) == tuple(other)\n",
    "\n",
    "#     def __eq__(self,other):\n",
    "#         if len(self) != len(other):\n",
    "#             return False\n",
    "#         for a,b in zip(self,other):\n",
    "#             if a != b:\n",
    "#                 return False\n",
    "#         return True\n",
    "    \n",
    "    def __eq__(self,other):\n",
    "        return len(self) == len(other) and all(a==b for a,b in zip(self,other))\n",
    "    \n",
    "    def __hash__(self):\n",
    "        hashes = map(hash, self._components)\n",
    "        # 这里我们提供了第三个参数，这样能避免对空对列使用reduce\n",
    "        return functools.reduce(operator.xor,hashes,0)\n",
    "    \n",
    "    def __abs__(self):\n",
    "        return math.sqrt(sum(x*x for x in self))\n",
    "    \n",
    "    def __bool__(self):\n",
    "        return bool(abs(self))\n",
    "    \n",
    "    def __len__(self):\n",
    "        return len(self._components)\n",
    "    \n",
    "    def __getitem__(self,index):\n",
    "        cls = type(self)\n",
    "        if isinstance(index,slice):\n",
    "            return cls(self._components[index])\n",
    "        elif isinstance(index,numbers.Integral):\n",
    "            return self._components[index]\n",
    "        else:\n",
    "            msg = '{cls.__name__} indices must be integers'\n",
    "            raise TypeError(msg.format(cls=cls))\n",
    "            \n",
    "    def __getattr__(self,name):\n",
    "        cls = type(self)\n",
    "        \n",
    "        if len(name) == 1:\n",
    "            pos = cls.shortcut_names.find(name)\n",
    "            if pos >= 0 and pos < len(self._components):\n",
    "                return self._components[pos]\n",
    "        msg = '{.__name__!r} object has no attribute {!r}'\n",
    "        raise AttributeError(msg.format(cls,name))\n",
    "        \n",
    "    def __setattr__(self,name,value):\n",
    "        cls = type(self)\n",
    "        if len(name) == 1:\n",
    "            if name in cls.shortcut_names:\n",
    "                error = 'readonly attribute {attr_name!r}'\n",
    "            elif name.islower():\n",
    "                error = \"can't set attributes 'a' to 'z' in {cls_name!r}\"\n",
    "            else:\n",
    "                error = ''\n",
    "            if error:\n",
    "                msg = error.format(cls_name=cls.__name__,attr_name=name)\n",
    "                raise AttributeError(msg)\n",
    "        super().__setattr__(name,value) # 默认情况，在超类上调用__setattr__，提供标准行为\n",
    "    \n",
    "    @classmethod\n",
    "    def frombytes(cls,octets):\n",
    "        typecode = chr(cotets[0])\n",
    "        memv = memoryview(octets[1:]).cast(typecode)\n",
    "        return cls(memv)"
   ]
  },
  {
   "cell_type": "code",
   "execution_count": 3,
   "metadata": {},
   "outputs": [
    {
     "name": "stdout",
     "output_type": "stream",
     "text": [
      "<zip object at 0x10568c408>\n",
      "[(0, 'A'), (1, 'B'), (2, 'C')]\n",
      "[(0, 'A', 0.0), (1, 'B', 1.1), (2, 'C', 2.2)]\n",
      "[(0, 'A', 0.0), (1, 'B', 1.1), (2, 'C', 2.2), (-1, -1, 3.3)]\n"
     ]
    }
   ],
   "source": [
    "\"\"\"\n",
    "接下来，我们修改一下__eq__函数，当维数很多时，之前实现的方式显然效率比较低\n",
    "\n",
    "这里我们使用zip函数，zip函数可以很轻松地并行迭代两个甚至多个可迭代对象，他返回的元组可以拆包成变量。\n",
    "\"\"\"\n",
    "print(zip(range(3),'ABC'))\n",
    "print(list(zip(range(3),'ABC')))\n",
    "\n",
    "print(list(zip(range(3),'ABC',[0.0,1.1,2.2,3.3]))) # 得到长度为最短的一个可迭代对象的长度\n",
    "\n",
    "from itertools import zip_longest\n",
    "\n",
    "print(list(zip_longest(range(3),'ABC',[0.0,1.1,2.2,3.3],fillvalue=-1))) # 得到长度为最长的一个可迭代对象的长度\n"
   ]
  },
  {
   "cell_type": "code",
   "execution_count": 4,
   "metadata": {
    "collapsed": true
   },
   "outputs": [],
   "source": [
    "\"\"\"\n",
    "所以我们实现下面的__eq__函数：\n",
    "\"\"\"\n",
    "def __eq__(self,other):\n",
    "    if len(self) != len(other):\n",
    "        return False\n",
    "    for a,b in zip(self,other):\n",
    "        if a != b:\n",
    "            return False\n",
    "    return True"
   ]
  },
  {
   "cell_type": "code",
   "execution_count": 5,
   "metadata": {
    "collapsed": true
   },
   "outputs": [],
   "source": [
    "\"\"\"\n",
    "上面的函数效率很高，但是过于烦琐，我们可以使用下面的一行来表示\n",
    "\"\"\"\n",
    "def __eq__(self,other):\n",
    "    return len(self) == len(other) and all(a==b for a,b in zip(self,other))"
   ]
  },
  {
   "cell_type": "code",
   "execution_count": null,
   "metadata": {
    "collapsed": true
   },
   "outputs": [],
   "source": [
    "# "
   ]
  }
 ],
 "metadata": {
  "kernelspec": {
   "display_name": "Python 3",
   "language": "python",
   "name": "python3"
  },
  "language_info": {
   "codemirror_mode": {
    "name": "ipython",
    "version": 3
   },
   "file_extension": ".py",
   "mimetype": "text/x-python",
   "name": "python",
   "nbconvert_exporter": "python",
   "pygments_lexer": "ipython3",
   "version": "3.6.1"
  }
 },
 "nbformat": 4,
 "nbformat_minor": 2
}
