{
 "cells": [
  {
   "cell_type": "code",
   "execution_count": 3,
   "metadata": {},
   "outputs": [
    {
     "name": "stdout",
     "output_type": "stream",
     "text": [
      "3\n",
      "5.0\n",
      "array('d', [4.0, 5.0])\n"
     ]
    }
   ],
   "source": [
    "\"\"\"\n",
    "我们知道，只要实现__len__和__getitem__方法，类可以表现得像一个序列\n",
    "\"\"\"\n",
    "from array import array\n",
    "import reprlib\n",
    "import math\n",
    "\n",
    "class Vector:\n",
    "    typecode = 'd'\n",
    "    \n",
    "    def __init__(self,components):\n",
    "        self._components = array(self.typecode,components)\n",
    "    \n",
    "    def __iter__(self):\n",
    "        return iter(self._components)\n",
    "    \n",
    "    def __repr__(self):\n",
    "        components = reprlib.repr(self.components) # 该函数返回的是array('d',[0.0,1.0,....])\n",
    "        components = components[components.find('['):-1]\n",
    "        return 'Vector({})'.format(components)\n",
    "    \n",
    "    def __str__(self):\n",
    "        return str(tuple(self))\n",
    "    \n",
    "    def __bytes__(self):\n",
    "        return (bytes([ord(self.typecode)]) + btyes(self._components))\n",
    "    \n",
    "    def __eq__(self,other):\n",
    "        return tuple(self) == tuple(other)\n",
    "    \n",
    "    def __abs__(self):\n",
    "        return math.sqrt(sum(x*x for x in self))\n",
    "    \n",
    "    def __bool__(self):\n",
    "        return bool(abs(self))\n",
    "    \n",
    "    def __len__(self):\n",
    "        return len(self._components)\n",
    "    \n",
    "    def __getitem__(self,index):\n",
    "        return self._components[index]\n",
    "    \n",
    "    @classmethod\n",
    "    def frombytes(cls,octets):\n",
    "        typecode = chr(cotets[0])\n",
    "        memv = memoryview(octets[1:]).cast(typecode)\n",
    "        return cls(memv)\n",
    "    \n",
    "v1 = Vector([3,4,5])\n",
    "print(len(v1))\n",
    "print(v1[-1])\n",
    "print(v1[1:3])"
   ]
  },
  {
   "cell_type": "code",
   "execution_count": 4,
   "metadata": {},
   "outputs": [
    {
     "name": "stdout",
     "output_type": "stream",
     "text": [
      "1\n",
      "slice(1, 4, None)\n",
      "slice(1, 4, 2)\n",
      "(slice(1, 4, 2), 9)\n",
      "(slice(1, 4, 2), slice(7, 9, None))\n"
     ]
    }
   ],
   "source": [
    "\"\"\"\n",
    "上面的类有个问题，Vector实例的切片是array，如果是Vector的话，那就更好了。\n",
    "不过在此之前，我们先了解一下切片的原理\n",
    "\"\"\"\n",
    "class MySeq:\n",
    "    def __getitem__(self,index):\n",
    "        return index\n",
    "    \n",
    "s = MySeq()\n",
    "print(s[1])\n",
    "print(s[1:4])\n",
    "print(s[1:4:2])\n",
    "print(s[1:4:2,9]) # 如果[]中有逗号，__getitem__收到的是元组\n",
    "print(s[1:4:2,7:9])"
   ]
  },
  {
   "cell_type": "code",
   "execution_count": 5,
   "metadata": {},
   "outputs": [
    {
     "data": {
      "text/plain": [
       "['__class__',\n",
       " '__delattr__',\n",
       " '__dir__',\n",
       " '__doc__',\n",
       " '__eq__',\n",
       " '__format__',\n",
       " '__ge__',\n",
       " '__getattribute__',\n",
       " '__gt__',\n",
       " '__hash__',\n",
       " '__init__',\n",
       " '__le__',\n",
       " '__lt__',\n",
       " '__ne__',\n",
       " '__new__',\n",
       " '__reduce__',\n",
       " '__reduce_ex__',\n",
       " '__repr__',\n",
       " '__setattr__',\n",
       " '__sizeof__',\n",
       " '__str__',\n",
       " '__subclasshook__',\n",
       " 'indices',\n",
       " 'start',\n",
       " 'step',\n",
       " 'stop']"
      ]
     },
     "execution_count": 5,
     "metadata": {},
     "output_type": "execute_result"
    }
   ],
   "source": [
    "\"\"\"\n",
    "接下来，我们来看一下slice本身的属性,可以看到，它有start,stop和step数据属性，以及indices方法\n",
    "\"\"\"\n",
    "dir(slice)"
   ]
  },
  {
   "cell_type": "code",
   "execution_count": 6,
   "metadata": {},
   "outputs": [
    {
     "name": "stdout",
     "output_type": "stream",
     "text": [
      "(0, 5, 2)\n",
      "(2, 5, 1)\n"
     ]
    }
   ],
   "source": [
    "\"\"\"\n",
    "indices方法如下：\n",
    "S.indices(len) -> (start,stop,stride)\n",
    "解释起来比较麻烦，咱们直接看代码.\n",
    "假设序列为'ABCDE'\n",
    "第一个的结果是(0, 5, 2)，也就是说，给定一个长度为5的序列，'ABCDE'[:10:2] 等同于 'ABCDE'[0:5:2]\n",
    "第二个结果为（2,5,1）也就是说'ABCDE'[-3:] 等同于 'ABCDE'[2:5:1]\n",
    "\"\"\"\n",
    "print(slice(None,10,2).indices(5))\n",
    "print(slice(-3,None,None).indices(5))\n"
   ]
  },
  {
   "cell_type": "code",
   "execution_count": 9,
   "metadata": {},
   "outputs": [
    {
     "name": "stdout",
     "output_type": "stream",
     "text": [
      "3\n",
      "5.0\n",
      "<class '__main__.Vector'>\n"
     ]
    }
   ],
   "source": [
    "\"\"\"\n",
    "在了解了切片原理之后，我们修改之前的__getitem__，使得切片操作返回的仍然是一个Vector实例\n",
    "\"\"\"\n",
    "import numbers\n",
    "class Vector:\n",
    "    typecode = 'd'\n",
    "    \n",
    "    def __init__(self,components):\n",
    "        self._components = array(self.typecode,components)\n",
    "    \n",
    "    def __iter__(self):\n",
    "        return iter(self._components)\n",
    "    \n",
    "    def __repr__(self):\n",
    "        components = reprlib.repr(self.components) # 该函数返回的是array('d',[0.0,1.0,....])\n",
    "        components = components[components.find('['):-1]\n",
    "        return 'Vector({})'.format(components)\n",
    "    \n",
    "    def __str__(self):\n",
    "        return str(tuple(self))\n",
    "    \n",
    "    def __bytes__(self):\n",
    "        return (bytes([ord(self.typecode)]) + btyes(self._components))\n",
    "    \n",
    "    def __eq__(self,other):\n",
    "        return tuple(self) == tuple(other)\n",
    "    \n",
    "    def __abs__(self):\n",
    "        return math.sqrt(sum(x*x for x in self))\n",
    "    \n",
    "    def __bool__(self):\n",
    "        return bool(abs(self))\n",
    "    \n",
    "    def __len__(self):\n",
    "        return len(self._components)\n",
    "    \n",
    "    def __getitem__(self,index):\n",
    "        cls = type(self)\n",
    "        if isinstance(index,slice):\n",
    "            return cls(self._components[index])\n",
    "        elif isinstance(index,numbers.Integral):\n",
    "            return self._components[index]\n",
    "        else:\n",
    "            msg = '{cls.__name__} indices must be integers'\n",
    "            raise TypeError(msg.format(cls=cls))\n",
    "    \n",
    "    @classmethod\n",
    "    def frombytes(cls,octets):\n",
    "        typecode = chr(cotets[0])\n",
    "        memv = memoryview(octets[1:]).cast(typecode)\n",
    "        return cls(memv)\n",
    "    \n",
    "v1 = Vector([3,4,5])\n",
    "print(len(v1))\n",
    "print(v1[-1])\n",
    "print(type(v1[0:2]))"
   ]
  },
  {
   "cell_type": "code",
   "execution_count": null,
   "metadata": {
    "collapsed": true
   },
   "outputs": [],
   "source": []
  }
 ],
 "metadata": {
  "kernelspec": {
   "display_name": "Python 3",
   "language": "python",
   "name": "python3"
  },
  "language_info": {
   "codemirror_mode": {
    "name": "ipython",
    "version": 3
   },
   "file_extension": ".py",
   "mimetype": "text/x-python",
   "name": "python",
   "nbconvert_exporter": "python",
   "pygments_lexer": "ipython3",
   "version": "3.6.1"
  }
 },
 "nbformat": 4,
 "nbformat_minor": 1
}
