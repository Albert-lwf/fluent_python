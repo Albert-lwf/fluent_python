{
 "cells": [
  {
   "cell_type": "code",
   "execution_count": 2,
   "metadata": {
    "collapsed": false
   },
   "outputs": [
    {
     "name": "stdout",
     "output_type": "stream",
     "text": [
      "8027212646858338501\n"
     ]
    },
    {
     "ename": "TypeError",
     "evalue": "unhashable type: 'list'",
     "output_type": "error",
     "traceback": [
      "\u001b[0;31m---------------------------------------------------------------------------\u001b[0m",
      "\u001b[0;31mTypeError\u001b[0m                                 Traceback (most recent call last)",
      "\u001b[0;32m<ipython-input-2-88c098d39a45>\u001b[0m in \u001b[0;36m<module>\u001b[0;34m()\u001b[0m\n\u001b[1;32m     14\u001b[0m \u001b[0;34m\u001b[0m\u001b[0m\n\u001b[1;32m     15\u001b[0m \u001b[0mt1\u001b[0m \u001b[0;34m=\u001b[0m \u001b[0;34m(\u001b[0m\u001b[0;36m1\u001b[0m\u001b[0;34m,\u001b[0m\u001b[0;36m2\u001b[0m\u001b[0;34m,\u001b[0m\u001b[0;34m[\u001b[0m\u001b[0;36m30\u001b[0m\u001b[0;34m,\u001b[0m\u001b[0;36m40\u001b[0m\u001b[0;34m]\u001b[0m\u001b[0;34m)\u001b[0m\u001b[0;34m\u001b[0m\u001b[0m\n\u001b[0;32m---> 16\u001b[0;31m \u001b[0mprint\u001b[0m\u001b[0;34m(\u001b[0m\u001b[0mhash\u001b[0m\u001b[0;34m(\u001b[0m\u001b[0mt1\u001b[0m\u001b[0;34m)\u001b[0m\u001b[0;34m)\u001b[0m\u001b[0;34m\u001b[0m\u001b[0m\n\u001b[0m",
      "\u001b[0;31mTypeError\u001b[0m: unhashable type: 'list'"
     ]
    }
   ],
   "source": [
    "\"\"\"\n",
    "标准库中的所有映射类型都是利用dict来实现的，因此他们有共同的限制，只有可散列的数据类型才能用做这些映射里的键。\n",
    "什么是可散列类型呢？Python官方给出的翻译是：如果一个对象是可散列的，那么在这个对象的生命周期中，他的散列值是不会变的\n",
    "（它需要实现__hash__()方法）。它可以与其他对象作比较（还需实现__eq__()方法）。如果一个可散列对象与另一个可散列对象\n",
    "是相等的，那么他们的散列值hash value一定是相等的。\n",
    "\n",
    "原子不可变数据类型（str，bytes和数值类型）都是hashable类型，frozenset也是hashable的，因为根据其定义，frozenset里只可容纳可散列类型。\n",
    "元组也是hashable的，但只有当元组包含的所有元素都是hashable类型的情况下它才是可散列的。\n",
    "\n",
    "list等可变对象是不可散列的，因为随着数据的改变他们的哈希值会变化导致进入错误的哈希表。\n",
    "\n",
    "一般用户自定义的类型的对象都是可散列的，散列值就是它们的id()函数的返回值，所以所有这些对象在比较的时候都是不想等的。\n",
    "如果一个对象实现了__eq__()方法，并且在方法中用到了这个对象的内部状态的话，那么只有当所有这些内部状态都是不可变的情\n",
    "况下，这个对象才是可散列的。\n",
    "\n",
    "\"\"\"\n",
    "tt = (1,2,(30,40))\n",
    "print(hash(tt))\n",
    "\n",
    "t1 = (1,2,[30,40])\n",
    "print(hash(t1))"
   ]
  },
  {
   "cell_type": "code",
   "execution_count": 8,
   "metadata": {
    "collapsed": false
   },
   "outputs": [
    {
     "name": "stdout",
     "output_type": "stream",
     "text": [
      "-4118419923444501110\n"
     ]
    }
   ],
   "source": [
    "tf = (1,2,frozenset([30,40]))\n",
    "print(hash(tf))"
   ]
  },
  {
   "cell_type": "code",
   "execution_count": 9,
   "metadata": {
    "collapsed": false
   },
   "outputs": [
    {
     "name": "stdout",
     "output_type": "stream",
     "text": [
      "True\n"
     ]
    }
   ],
   "source": [
    "\"\"\"\n",
    "字典的生成方式，下面的五种方式得到的结果是一样的\n",
    "\"\"\"\n",
    "a = dict(one=1,two=2,three=3)\n",
    "b = {'one':1,'two':2,'three':3}\n",
    "c = dict(zip(['one','two','three'],[1,2,3]))\n",
    "d = dict([('two',2),('one',1),('three',3)])\n",
    "e = dict({'three':3,'one':1,'two':2})\n",
    "print(a==b==c==d==e)"
   ]
  },
  {
   "cell_type": "code",
   "execution_count": 11,
   "metadata": {
    "collapsed": false
   },
   "outputs": [
    {
     "name": "stdout",
     "output_type": "stream",
     "text": [
      "{'Bangladesh': 880, 'China': 86, 'Indonesia': 62, 'Pakistan': 92, 'Brazil': 55, 'United States': 1, 'India': 91}\n",
      "{880: 'BANGLADESH', 1: 'UNITED STATES', 86: 'CHINA', 55: 'BRAZIL', 91: 'INDIA', 92: 'PAKISTAN', 62: 'INDONESIA'}\n"
     ]
    }
   ],
   "source": [
    "# 除此之外，我们还可以使用字典推导式\n",
    "DIAL_CODES = [\n",
    "    (86,'China'),\n",
    "    (91,'India'),\n",
    "    (1,'United States'),\n",
    "    (62,'Indonesia'),\n",
    "    (55,'Brazil'),\n",
    "    (92,'Pakistan'),\n",
    "    (880,'Bangladesh')\n",
    "]\n",
    "country_code = {country:code for code,country in DIAL_CODES}\n",
    "print(country_code)\n",
    "country_code1 = {code:country.upper() for country,code in country_code.items()}\n",
    "print(country_code1)"
   ]
  },
  {
   "cell_type": "code",
   "execution_count": 12,
   "metadata": {
    "collapsed": false
   },
   "outputs": [
    {
     "data": {
      "text/plain": [
       "'\\n有下面几种方法：\\n1、get(key,default)\\n2、dict.setdefault\\n3、collections.defaultdict\\n4、__missing__方法\\n'"
      ]
     },
     "execution_count": 12,
     "metadata": {},
     "output_type": "execute_result"
    }
   ],
   "source": [
    "\"\"\"字典处理找不到的键\"\"\"\n",
    "\"\"\"\n",
    "字典取值的时候，会调用__getitem__方法，但是有时候会碰到找不到的键，该如何处理呢？\n",
    "有下面几种方法：\n",
    "1、get(key,default)\n",
    "2、dict.setdefault\n",
    "3、collections.defaultdict\n",
    "4、__missing__方法\n",
    "\"\"\""
   ]
  },
  {
   "cell_type": "code",
   "execution_count": 13,
   "metadata": {
    "collapsed": false
   },
   "outputs": [
    {
     "name": "stdout",
     "output_type": "stream",
     "text": [
      "{'Durant': [20], 'Harden': [58, 57, 48, 61], 'Curry': [20, 10]}\n"
     ]
    }
   ],
   "source": [
    "\"\"\"\n",
    "1、get(key,default)，并不是一个很好的解决方案，效率偏低，我们看代码\n",
    "\"\"\"\n",
    "points_game = {'Harden':[58,57,48],'Curry':[20,10]}\n",
    "new_games = [('Harden',61),('Durant',20)]\n",
    "for name,point in new_games:\n",
    "    point_his = points_game.get(name,[]) # 一次查询操作，判断name有没有出现在字典中\n",
    "    point_his.append(point) # 添加新的得分纪录\n",
    "    points_game[name] = point_his # 将得分纪录和name添加到字典中，又涉及一次插入操作\n",
    "print(points_game)"
   ]
  },
  {
   "cell_type": "code",
   "execution_count": 15,
   "metadata": {
    "collapsed": false
   },
   "outputs": [
    {
     "name": "stdout",
     "output_type": "stream",
     "text": [
      "{'Durant': [20], 'Harden': [58, 57, 48, 61], 'Curry': [20, 10]}\n"
     ]
    }
   ],
   "source": [
    "\"\"\"\n",
    "2、dict.setdefault\n",
    "\"\"\"\n",
    "points_game = {'Harden':[58,57,48],'Curry':[20,10]}\n",
    "new_games = [('Harden',61),('Durant',20)]\n",
    "for name,point in new_games:\n",
    "    # 如果名字没有出现，则把名字和空列表放进映射，然后返回这个空列表，这样就能在不进行第二次查找的情况下更新列表了\n",
    "    points_game.setdefault(name,[]).append(point) \n",
    "print(points_game)"
   ]
  },
  {
   "cell_type": "code",
   "execution_count": 17,
   "metadata": {
    "collapsed": false
   },
   "outputs": [
    {
     "name": "stdout",
     "output_type": "stream",
     "text": [
      "defaultdict(<class 'list'>, {'Durant': [20], 'Harden': [58, 57, 48, 61], 'Curry': [20, 10]})\n"
     ]
    }
   ],
   "source": [
    "\"\"\"\n",
    "3、collections.defaultdict\n",
    "在实例化一个defaultdict的时候，需要给构造方法提供一个可调用的对象，这个可调用对象会在__getitem__碰到找不到的键的时候被调用。\n",
    "比如下面的例子，在找不到name的情况下，会调用list()来建立一个新列表，并赋值给points_game[name],继而被当作返回值返回。\n",
    "\"\"\"\n",
    "import collections\n",
    "points_game = collections.defaultdict(list)\n",
    "points_game['Harden'] = [58,57,48]\n",
    "points_game['Curry'] = [20,10]\n",
    "new_games = [('Harden',61),('Durant',20)]\n",
    "for name,point in new_games:\n",
    "    points_game[name].append(point)\n",
    "print(points_game)"
   ]
  },
  {
   "cell_type": "code",
   "execution_count": 23,
   "metadata": {
    "collapsed": false
   },
   "outputs": [
    {
     "name": "stdout",
     "output_type": "stream",
     "text": [
      "two\n",
      "four\n"
     ]
    },
    {
     "ename": "KeyError",
     "evalue": "'1'",
     "output_type": "error",
     "traceback": [
      "\u001b[0;31m---------------------------------------------------------------------------\u001b[0m",
      "\u001b[0;31mKeyError\u001b[0m                                  Traceback (most recent call last)",
      "\u001b[0;32m<ipython-input-23-40ccf43710c7>\u001b[0m in \u001b[0;36m<module>\u001b[0;34m()\u001b[0m\n\u001b[1;32m     24\u001b[0m \u001b[0mprint\u001b[0m\u001b[0;34m(\u001b[0m\u001b[0md\u001b[0m\u001b[0;34m[\u001b[0m\u001b[0;34m'2'\u001b[0m\u001b[0;34m]\u001b[0m\u001b[0;34m)\u001b[0m\u001b[0;34m\u001b[0m\u001b[0m\n\u001b[1;32m     25\u001b[0m \u001b[0mprint\u001b[0m\u001b[0;34m(\u001b[0m\u001b[0md\u001b[0m\u001b[0;34m[\u001b[0m\u001b[0;36m4\u001b[0m\u001b[0;34m]\u001b[0m\u001b[0;34m)\u001b[0m\u001b[0;34m\u001b[0m\u001b[0m\n\u001b[0;32m---> 26\u001b[0;31m \u001b[0mprint\u001b[0m\u001b[0;34m(\u001b[0m\u001b[0md\u001b[0m\u001b[0;34m[\u001b[0m\u001b[0;36m1\u001b[0m\u001b[0;34m]\u001b[0m\u001b[0;34m)\u001b[0m\u001b[0;34m\u001b[0m\u001b[0m\n\u001b[0m",
      "\u001b[0;32m<ipython-input-23-40ccf43710c7>\u001b[0m in \u001b[0;36m__missing__\u001b[0;34m(self, key)\u001b[0m\n\u001b[1;32m     10\u001b[0m         \u001b[0;32mif\u001b[0m \u001b[0misinstance\u001b[0m\u001b[0;34m(\u001b[0m\u001b[0mkey\u001b[0m\u001b[0;34m,\u001b[0m\u001b[0mstr\u001b[0m\u001b[0;34m)\u001b[0m\u001b[0;34m:\u001b[0m\u001b[0;34m\u001b[0m\u001b[0m\n\u001b[1;32m     11\u001b[0m             \u001b[0;32mraise\u001b[0m \u001b[0mKeyError\u001b[0m\u001b[0;34m(\u001b[0m\u001b[0mkey\u001b[0m\u001b[0;34m)\u001b[0m\u001b[0;34m\u001b[0m\u001b[0m\n\u001b[0;32m---> 12\u001b[0;31m         \u001b[0;32mreturn\u001b[0m \u001b[0mself\u001b[0m\u001b[0;34m[\u001b[0m\u001b[0mstr\u001b[0m\u001b[0;34m(\u001b[0m\u001b[0mkey\u001b[0m\u001b[0;34m)\u001b[0m\u001b[0;34m]\u001b[0m\u001b[0;34m\u001b[0m\u001b[0m\n\u001b[0m\u001b[1;32m     13\u001b[0m \u001b[0;34m\u001b[0m\u001b[0m\n\u001b[1;32m     14\u001b[0m     \u001b[0;32mdef\u001b[0m \u001b[0mget\u001b[0m\u001b[0;34m(\u001b[0m\u001b[0mself\u001b[0m\u001b[0;34m,\u001b[0m\u001b[0mkey\u001b[0m\u001b[0;34m,\u001b[0m\u001b[0mdefault\u001b[0m\u001b[0;34m=\u001b[0m\u001b[0;32mNone\u001b[0m\u001b[0;34m)\u001b[0m\u001b[0;34m:\u001b[0m\u001b[0;34m\u001b[0m\u001b[0m\n",
      "\u001b[0;32m<ipython-input-23-40ccf43710c7>\u001b[0m in \u001b[0;36m__missing__\u001b[0;34m(self, key)\u001b[0m\n\u001b[1;32m      9\u001b[0m     \u001b[0;32mdef\u001b[0m \u001b[0m__missing__\u001b[0m\u001b[0;34m(\u001b[0m\u001b[0mself\u001b[0m\u001b[0;34m,\u001b[0m\u001b[0mkey\u001b[0m\u001b[0;34m)\u001b[0m\u001b[0;34m:\u001b[0m\u001b[0;34m\u001b[0m\u001b[0m\n\u001b[1;32m     10\u001b[0m         \u001b[0;32mif\u001b[0m \u001b[0misinstance\u001b[0m\u001b[0;34m(\u001b[0m\u001b[0mkey\u001b[0m\u001b[0;34m,\u001b[0m\u001b[0mstr\u001b[0m\u001b[0;34m)\u001b[0m\u001b[0;34m:\u001b[0m\u001b[0;34m\u001b[0m\u001b[0m\n\u001b[0;32m---> 11\u001b[0;31m             \u001b[0;32mraise\u001b[0m \u001b[0mKeyError\u001b[0m\u001b[0;34m(\u001b[0m\u001b[0mkey\u001b[0m\u001b[0;34m)\u001b[0m\u001b[0;34m\u001b[0m\u001b[0m\n\u001b[0m\u001b[1;32m     12\u001b[0m         \u001b[0;32mreturn\u001b[0m \u001b[0mself\u001b[0m\u001b[0;34m[\u001b[0m\u001b[0mstr\u001b[0m\u001b[0;34m(\u001b[0m\u001b[0mkey\u001b[0m\u001b[0;34m)\u001b[0m\u001b[0;34m]\u001b[0m\u001b[0;34m\u001b[0m\u001b[0m\n\u001b[1;32m     13\u001b[0m \u001b[0;34m\u001b[0m\u001b[0m\n",
      "\u001b[0;31mKeyError\u001b[0m: '1'"
     ]
    }
   ],
   "source": [
    "\"\"\"\n",
    "4、__missing__方法\n",
    "所有映射类型在处理找不到键的时候，都会牵扯__missing__方法。虽然基类dict没有实现这个方法，但是dict知道这个东西是存在的。\n",
    "也就是说，如果一个类继承了dict，然后这个继承类提供了__missing__方法，那么在__getitem__碰到找不到键的时候，Python就会\n",
    "自动调用它。\n",
    "__missing__方法只会被__getitem__调用。\n",
    "\"\"\"\n",
    "class strKeyDict0(dict):\n",
    "    def __missing__(self,key):\n",
    "        if isinstance(key,str):\n",
    "            raise KeyError(key)\n",
    "        return self[str(key)]\n",
    "    \n",
    "    def get(self,key,default=None):\n",
    "        try:\n",
    "            return self[key]\n",
    "        except KeyError:\n",
    "            return default\n",
    "    \n",
    "    # 注意这里的一个实现细节，我们没有调用key in self,而是key in self.keys()。因为key in self本身调用的还是__contains__方法，\n",
    "    # 这样会造成递归调用。\n",
    "    def __contains__(self,key):\n",
    "        return key in self.keys() or str(key) in self.keys()\n",
    "    \n",
    "d = strKeyDict0([('2','two'),('4','four')])\n",
    "print(d['2'])\n",
    "# 4不在我们的键中，会调用我们的__missing__方法，发现'4'在字典中，则返回'4'对应的值。\n",
    "print(d[4])\n",
    "print(d[1])"
   ]
  },
  {
   "cell_type": "code",
   "execution_count": 26,
   "metadata": {
    "collapsed": false
   },
   "outputs": [
    {
     "name": "stdout",
     "output_type": "stream",
     "text": [
      "two\n",
      "four\n",
      "N/A\n"
     ]
    }
   ],
   "source": [
    "print(d.get('2'))\n",
    "print(d.get(4))\n",
    "print(d.get(1,'N/A'))"
   ]
  },
  {
   "cell_type": "code",
   "execution_count": 25,
   "metadata": {
    "collapsed": false
   },
   "outputs": [
    {
     "name": "stdout",
     "output_type": "stream",
     "text": [
      "True\n",
      "False\n"
     ]
    }
   ],
   "source": [
    "print(2 in d)\n",
    "print(1 in d)"
   ]
  },
  {
   "cell_type": "code",
   "execution_count": 29,
   "metadata": {
    "collapsed": false
   },
   "outputs": [
    {
     "name": "stdout",
     "output_type": "stream",
     "text": [
      "A 1\n",
      "B 2\n",
      "C 3\n",
      "A 1\n",
      "C 3\n",
      "B 2\n"
     ]
    }
   ],
   "source": [
    "\"\"\"字典的变种\"\"\"\n",
    "\"\"\"\n",
    "1、collections.OrderedDict，在添加键的时候会保持顺序，因此键的迭代次序总是一致的。在使用poiitem方法时，会默认删除最后一个元素，\n",
    "但是如果popitem(last=False)这样调用，删除并返回第一个添加的元素。\n",
    "\n",
    "下面的代码中，OrderedDict的输出顺序喝插入顺序一致，但是普通的dict却不是。\n",
    "\"\"\"\n",
    "from collections import OrderedDict\n",
    "orderdict = OrderedDict()\n",
    "orderdict['A'] = 1\n",
    "orderdict['B'] = 2\n",
    "orderdict['C'] = 3\n",
    "\n",
    "from collections import OrderedDict\n",
    "commendict = dict()\n",
    "commendict['A'] = 1\n",
    "commendict['B'] = 2\n",
    "commendict['C'] = 3\n",
    "\n",
    "for key,value in orderdict.items():\n",
    "    print(key,value)\n",
    "\n",
    "for key,value in commendict.items():\n",
    "    print(key,value)\n"
   ]
  },
  {
   "cell_type": "code",
   "execution_count": 31,
   "metadata": {
    "collapsed": false
   },
   "outputs": [
    {
     "name": "stdout",
     "output_type": "stream",
     "text": [
      "1\n",
      "7\n"
     ]
    }
   ],
   "source": [
    "\"\"\"\n",
    "2、collections.chainMap\n",
    "可以容纳数个不同的映射对象，在进行键查找操作时，会被当作一个整体进行逐个查找，直到被找到为止\n",
    "\"\"\"\n",
    "from collections import ChainMap\n",
    "dicta = {'A':1,'B':2}\n",
    "dictb = {'A':5,'C':7}\n",
    "chainmap = ChainMap(dicta,dictb)\n",
    "print(chainmap['A'])\n",
    "print(chainmap['C'])"
   ]
  },
  {
   "cell_type": "code",
   "execution_count": 36,
   "metadata": {
    "collapsed": false
   },
   "outputs": [
    {
     "name": "stdout",
     "output_type": "stream",
     "text": [
      "Counter({'a': 5, 'r': 2, 'b': 2, 'c': 1, 'd': 1})\n",
      "Counter({'a': 2, 'r': 2, 'e': 2, 'd': 2, 'w': 1, 't': 1, 'b': 1})\n",
      "Counter({'a': 7, 'r': 4, 'd': 3, 'b': 3, 'e': 2, 'c': 1, 'w': 1, 't': 1})\n",
      "Counter({'a': 3, 'c': 1, 'b': 1})\n",
      "Counter({'a': 10, 'z': 3, 'r': 2, 'b': 2, 'c': 1, 'd': 1})\n"
     ]
    }
   ],
   "source": [
    "\"\"\"\n",
    "3、collections.Counter\n",
    "用来计数，实现了+和-运算符来合并记录，还有most_common这类很有用的方法\n",
    "\"\"\"\n",
    "from collections import Counter\n",
    "ct = collections.Counter('abracadabra')\n",
    "print(ct)\n",
    "ct1 = collections.Counter('abadewetdrr')\n",
    "print(ct1)\n",
    "print(ct + ct1)\n",
    "# 从结果可以看到，若ct中有，ct1中没有，则保留ct中的记录，如c\n",
    "# 若ct和ct1中都有，ct的数量小于等于ct1中的数量，则结果中没有该记录，如d\n",
    "# 否则，结果中的数是二数量的差值，如a，b\n",
    "print(ct - ct1) \n",
    "# 就地更新，返回值是None\n",
    "ct.update('aaaaazzz')\n",
    "print(ct)"
   ]
  },
  {
   "cell_type": "code",
   "execution_count": 39,
   "metadata": {
    "collapsed": true
   },
   "outputs": [],
   "source": [
    "\"\"\"\n",
    "4、collections.UserDict\n",
    "创造自定义映射类型，以UserDict为基类，更加方便。因为dict在某些方法的实现上会走一些捷径，导致我们不得不在子类中重写这些方法，\n",
    "而UserDict就没有这些问题。\n",
    "\n",
    "UserDict并不是dict的子类，但是其中的data属性，是dict的实例，这个属性实际上就是UserDict最终存储数据的地方。因此，我们可以让__setitem__\n",
    "和__contains__里的代码更简洁\n",
    "\"\"\"\n",
    "class strKeyDict(dict):\n",
    "    def __missing__(self,key):\n",
    "        if isinstance(key,str):\n",
    "            raise KeyError(key)\n",
    "        return self[str(key)]\n",
    "    # 这里无需使用str(key) in self.data.keys()\n",
    "    def __contains__(self,key):\n",
    "        return str(key) in self.data\n",
    "    \n",
    "    def __setitem__(self,key,item):\n",
    "        self.data[str(key)] = item"
   ]
  },
  {
   "cell_type": "code",
   "execution_count": 41,
   "metadata": {
    "collapsed": false
   },
   "outputs": [
    {
     "name": "stdout",
     "output_type": "stream",
     "text": [
      "{1: 'A'}\n",
      "A\n",
      "{1: 'A', 2: 'B'}\n"
     ]
    },
    {
     "ename": "TypeError",
     "evalue": "'mappingproxy' object does not support item assignment",
     "output_type": "error",
     "traceback": [
      "\u001b[0;31m---------------------------------------------------------------------------\u001b[0m",
      "\u001b[0;31mTypeError\u001b[0m                                 Traceback (most recent call last)",
      "\u001b[0;32m<ipython-input-41-7c303b6b2a91>\u001b[0m in \u001b[0;36m<module>\u001b[0;34m()\u001b[0m\n\u001b[1;32m     11\u001b[0m \u001b[0md\u001b[0m\u001b[0;34m[\u001b[0m\u001b[0;36m2\u001b[0m\u001b[0;34m]\u001b[0m \u001b[0;34m=\u001b[0m \u001b[0;34m'B'\u001b[0m\u001b[0;34m\u001b[0m\u001b[0m\n\u001b[1;32m     12\u001b[0m \u001b[0mprint\u001b[0m\u001b[0;34m(\u001b[0m\u001b[0md_proxy\u001b[0m\u001b[0;34m)\u001b[0m\u001b[0;34m\u001b[0m\u001b[0m\n\u001b[0;32m---> 13\u001b[0;31m \u001b[0md_proxy\u001b[0m\u001b[0;34m[\u001b[0m\u001b[0;36m3\u001b[0m\u001b[0;34m]\u001b[0m \u001b[0;34m=\u001b[0m \u001b[0;34m'C'\u001b[0m\u001b[0;34m\u001b[0m\u001b[0m\n\u001b[0m",
      "\u001b[0;31mTypeError\u001b[0m: 'mappingproxy' object does not support item assignment"
     ]
    }
   ],
   "source": [
    "\"\"\"\n",
    "不可变映射类型：types模块中引入了一个封装类名叫MappingProxyType。\n",
    "如果给这个类一个映射，它会返回一个只读的映射视图。\n",
    "如果原映射做了修改，我们可以通过这个视图观察到，但是无法通过修改这个视图对原映射做出修改\n",
    "\"\"\"\n",
    "from types import MappingProxyType\n",
    "d = {1:'A'}\n",
    "d_proxy = MappingProxyType(d)\n",
    "print(d_proxy)\n",
    "print(d_proxy[1])\n",
    "d[2] = 'B'\n",
    "print(d_proxy)\n",
    "d_proxy[3] = 'C'"
   ]
  },
  {
   "cell_type": "code",
   "execution_count": null,
   "metadata": {
    "collapsed": true
   },
   "outputs": [],
   "source": []
  }
 ],
 "metadata": {
  "kernelspec": {
   "display_name": "Python [conda root]",
   "language": "python",
   "name": "conda-root-py"
  },
  "language_info": {
   "codemirror_mode": {
    "name": "ipython",
    "version": 3
   },
   "file_extension": ".py",
   "mimetype": "text/x-python",
   "name": "python",
   "nbconvert_exporter": "python",
   "pygments_lexer": "ipython3",
   "version": "3.5.2"
  }
 },
 "nbformat": 4,
 "nbformat_minor": 1
}
